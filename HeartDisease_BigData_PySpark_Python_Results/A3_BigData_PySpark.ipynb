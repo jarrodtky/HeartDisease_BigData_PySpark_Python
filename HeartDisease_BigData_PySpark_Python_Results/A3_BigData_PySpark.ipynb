{
  "nbformat": 4,
  "nbformat_minor": 0,
  "metadata": {
    "colab": {
      "provenance": [],
      "toc_visible": true
    },
    "kernelspec": {
      "name": "python3",
      "display_name": "Python 3"
    },
    "language_info": {
      "name": "python"
    }
  },
  "cells": [
    {
      "cell_type": "markdown",
      "source": [
        "# MDM5053 Big Data Management: Assessment 3\n",
        "\n",
        "## Big Data Analytics and Techniques (PySpark)"
      ],
      "metadata": {
        "id": "JEUYmUxYb9vu"
      }
    },
    {
      "cell_type": "markdown",
      "source": [
        "## 1.Data Loading"
      ],
      "metadata": {
        "id": "78FMJCS3VCTS"
      }
    },
    {
      "cell_type": "markdown",
      "source": [
        "### 1.1 Install and Import Libraries/Packages"
      ],
      "metadata": {
        "id": "vWTxEs17cGqg"
      }
    },
    {
      "cell_type": "code",
      "execution_count": null,
      "metadata": {
        "id": "XHSliUjSlrVi",
        "colab": {
          "base_uri": "https://localhost:8080/"
        },
        "outputId": "ed0312c5-54e4-493e-d29a-f6d9f5ce85a0"
      },
      "outputs": [
        {
          "output_type": "stream",
          "name": "stdout",
          "text": [
            "Looking in indexes: https://pypi.org/simple, https://us-python.pkg.dev/colab-wheels/public/simple/\n",
            "Requirement already satisfied: pyspark in /usr/local/lib/python3.8/dist-packages (3.3.1)\n",
            "Requirement already satisfied: py4j==0.10.9.5 in /usr/local/lib/python3.8/dist-packages (from pyspark) (0.10.9.5)\n",
            "CPU times: user 33.5 ms, sys: 16.9 ms, total: 50.4 ms\n",
            "Wall time: 4.17 s\n"
          ]
        }
      ],
      "source": [
        "%%time\n",
        "'''\n",
        "# Pip install commands.\n",
        "# Elaboration: Use the !pip install command if error occurs when importing\n",
        "              the libraries.\n",
        "'''\n",
        "\n",
        "!pip install pyspark"
      ]
    },
    {
      "cell_type": "code",
      "source": [
        "%%time\n",
        "# Import relavant libraries/packages\n",
        "# Elaboration:\n",
        "\n",
        "import pandas as pd # Data manipulation and analysis\n",
        "import numpy as np # Arrays\n",
        "import matplotlib.pyplot as plt # Data visualizations (subplots)\n",
        "import seaborn as sns # Data visualizations (pairplots, countplots, boxplot, heatmap)\n",
        "\n",
        "from pyspark.sql import SparkSession # Import Spark API/Session\n",
        "from pyspark.sql import functions as F # Use functions\n",
        "from pyspark.sql import Window # Utility functions for defining window in DataFrames.\n",
        "from pyspark.sql.types import IntegerType, BooleanType, DateType # DataTypes\n",
        "from pyspark.sql.functions import col, isnan, when, count, rank, sum, desc, trim, lower # Aggreviate functions\n",
        "from pyspark.ml import Pipeline # Create a Pipeline for feature engineering process - save time\n",
        "from pyspark.ml.feature import VectorAssembler, StandardScaler, OneHotEncoder # Vectorization, Scaling, Encoding\n",
        "from pyspark.ml.classification import LogisticRegression # Logistic Regression algorirthm\n",
        "#from pyspark.ml.tuning import CrossValidator\n",
        "from pyspark.mllib.stat import Statistics # Correlation\n",
        "from pyspark.mllib.evaluation import BinaryClassificationMetrics, MulticlassMetrics # Model performance & evaluation\n",
        "\n",
        "%matplotlib inline\n",
        "'''\n",
        "# Sets the backend of matplotlib to the 'inline' backend.\n",
        "# With this backend, the output of plotting commands is displayed inline within\n",
        "  frontends like the Jupyter notebook, directly below the code cell that\n",
        "  produced it.\n",
        "# The resulting plots will then also be stored in the notebook document.\n",
        "'''"
      ],
      "metadata": {
        "id": "b-CcshUll6mn",
        "colab": {
          "base_uri": "https://localhost:8080/",
          "height": 123
        },
        "outputId": "7b13e424-cddc-46ba-9c48-11ad0596559f"
      },
      "execution_count": null,
      "outputs": [
        {
          "output_type": "stream",
          "name": "stdout",
          "text": [
            "CPU times: user 897 ms, sys: 303 ms, total: 1.2 s\n",
            "Wall time: 1.1 s\n"
          ]
        },
        {
          "output_type": "execute_result",
          "data": {
            "text/plain": [
              "\"\\n# Sets the backend of matplotlib to the 'inline' backend. \\n# With this backend, the output of plotting commands is displayed inline within \\n  frontends like the Jupyter notebook, directly below the code cell that \\n  produced it. \\n# The resulting plots will then also be stored in the notebook document.\\n\""
            ],
            "application/vnd.google.colaboratory.intrinsic+json": {
              "type": "string"
            }
          },
          "metadata": {},
          "execution_count": 2
        }
      ]
    },
    {
      "cell_type": "code",
      "source": [
        "%%time\n",
        "'''\n",
        "# Start a Spark session\n",
        "# Elaboration: Set the Spark session as local, name it Colab since I use\n",
        "               Google Colab for this assessment, config the port, and\n",
        "               Gets an existing SparkSession or, if there is no existing one,\n",
        "               creates a new one based on the options set in this builder.\n",
        "'''\n",
        "\n",
        "spark = SparkSession.builder\\\n",
        "        .master(\"local\")\\\n",
        "        .appName(\"Colab\")\\\n",
        "        .config('spark.ui.port', '4050')\\\n",
        "        .getOrCreate()\n",
        "\n",
        "spark"
      ],
      "metadata": {
        "colab": {
          "base_uri": "https://localhost:8080/",
          "height": 254
        },
        "id": "EGsiqowR9tsL",
        "outputId": "11a3d249-197f-4c82-d1e1-dad292a77073"
      },
      "execution_count": null,
      "outputs": [
        {
          "output_type": "stream",
          "name": "stdout",
          "text": [
            "CPU times: user 87.1 ms, sys: 31.8 ms, total: 119 ms\n",
            "Wall time: 9.33 s\n"
          ]
        },
        {
          "output_type": "execute_result",
          "data": {
            "text/plain": [
              "<pyspark.sql.session.SparkSession at 0x7f9dd4ebd6a0>"
            ],
            "text/html": [
              "\n",
              "            <div>\n",
              "                <p><b>SparkSession - in-memory</b></p>\n",
              "                \n",
              "        <div>\n",
              "            <p><b>SparkContext</b></p>\n",
              "\n",
              "            <p><a href=\"http://8c02246fb38f:4050\">Spark UI</a></p>\n",
              "\n",
              "            <dl>\n",
              "              <dt>Version</dt>\n",
              "                <dd><code>v3.3.1</code></dd>\n",
              "              <dt>Master</dt>\n",
              "                <dd><code>local</code></dd>\n",
              "              <dt>AppName</dt>\n",
              "                <dd><code>Colab</code></dd>\n",
              "            </dl>\n",
              "        </div>\n",
              "        \n",
              "            </div>\n",
              "        "
            ]
          },
          "metadata": {},
          "execution_count": 3
        }
      ]
    },
    {
      "cell_type": "markdown",
      "source": [
        "### 1.2 Import/Load Dataset"
      ],
      "metadata": {
        "id": "rPLTgQtmbmIV"
      }
    },
    {
      "cell_type": "code",
      "source": [
        "%%time\n",
        "'''\n",
        "# Import/Load dataset.\n",
        "# Elaboration: To import/load the .csv dataset into PySpark session and\n",
        "                save into df (variable) with header and inferSchema set to true\n",
        "                to detect the dataset variables and allow PySpark to detect the\n",
        "                data types.\n",
        "'''\n",
        "\n",
        "df = spark.read.format(\"csv\").load(\"HeartDisease.csv\", header=True, inferSchema=True)\n",
        "\n",
        "df.printSchema()"
      ],
      "metadata": {
        "colab": {
          "base_uri": "https://localhost:8080/"
        },
        "id": "uiz0dZ-9mVF4",
        "outputId": "62793f47-c851-4a1d-900b-dd6148fb2717"
      },
      "execution_count": null,
      "outputs": [
        {
          "output_type": "stream",
          "name": "stdout",
          "text": [
            "root\n",
            " |-- HeartDiseaseorAttack: double (nullable = true)\n",
            " |-- HighBP: double (nullable = true)\n",
            " |-- HighChol: double (nullable = true)\n",
            " |-- CholCheck: double (nullable = true)\n",
            " |-- BMI: double (nullable = true)\n",
            " |-- Smoker: double (nullable = true)\n",
            " |-- Stroke: double (nullable = true)\n",
            " |-- Diabetes: double (nullable = true)\n",
            " |-- PhysActivity: double (nullable = true)\n",
            " |-- Fruits: double (nullable = true)\n",
            " |-- Veggies: double (nullable = true)\n",
            " |-- HvyAlcoholConsump: double (nullable = true)\n",
            " |-- AnyHealthcare: double (nullable = true)\n",
            " |-- NoDocbcCost: double (nullable = true)\n",
            " |-- GenHlth: double (nullable = true)\n",
            " |-- MentHlth: double (nullable = true)\n",
            " |-- PhysHlth: double (nullable = true)\n",
            " |-- DiffWalk: double (nullable = true)\n",
            " |-- Sex: double (nullable = true)\n",
            " |-- Age: double (nullable = true)\n",
            " |-- Education: double (nullable = true)\n",
            " |-- Income: double (nullable = true)\n",
            "\n",
            "CPU times: user 110 ms, sys: 18.2 ms, total: 129 ms\n",
            "Wall time: 19.7 s\n"
          ]
        }
      ]
    },
    {
      "cell_type": "markdown",
      "source": [
        "## 2.Data Preprocessing & Transformation"
      ],
      "metadata": {
        "id": "xW6N7xawc5ks"
      }
    },
    {
      "cell_type": "markdown",
      "source": [
        "### 2.1 Dataset Infographics"
      ],
      "metadata": {
        "id": "ap_Q6Tb3c-X9"
      }
    },
    {
      "cell_type": "code",
      "source": [
        "%%time\n",
        "# Show the number of rows/observations\n",
        "df.count()"
      ],
      "metadata": {
        "colab": {
          "base_uri": "https://localhost:8080/"
        },
        "id": "x_gvl70nmVJy",
        "outputId": "42f02adf-1d11-4b70-b36c-5f1c5e55972e"
      },
      "execution_count": null,
      "outputs": [
        {
          "output_type": "stream",
          "name": "stdout",
          "text": [
            "CPU times: user 18.7 ms, sys: 1.5 ms, total: 20.2 ms\n",
            "Wall time: 2.17 s\n"
          ]
        },
        {
          "output_type": "execute_result",
          "data": {
            "text/plain": [
              "253680"
            ]
          },
          "metadata": {},
          "execution_count": 5
        }
      ]
    },
    {
      "cell_type": "code",
      "source": [
        "%%time\n",
        "# Show the number of columns/variables\n",
        "len(df.columns)"
      ],
      "metadata": {
        "colab": {
          "base_uri": "https://localhost:8080/"
        },
        "id": "GPwnbDN2dvAe",
        "outputId": "53c35502-1f23-4122-8bcd-04d78b16632e"
      },
      "execution_count": null,
      "outputs": [
        {
          "output_type": "stream",
          "name": "stdout",
          "text": [
            "CPU times: user 4.1 ms, sys: 0 ns, total: 4.1 ms\n",
            "Wall time: 40 ms\n"
          ]
        },
        {
          "output_type": "execute_result",
          "data": {
            "text/plain": [
              "22"
            ]
          },
          "metadata": {},
          "execution_count": 6
        }
      ]
    },
    {
      "cell_type": "code",
      "source": [
        "%%time\n",
        "'''\n",
        "# Shows descriptive stats of numeric features.\n",
        "# Elaboration: Describes the basic information about variables in the dataset\n",
        "                and highlight potential relationships between variables.\n",
        "'''\n",
        "\n",
        "df.describe().toPandas()"
      ],
      "metadata": {
        "colab": {
          "base_uri": "https://localhost:8080/",
          "height": 334
        },
        "id": "GpGUeEhhmVP2",
        "outputId": "57843ef9-fe6d-4647-f6f5-3fafc1bb2f85"
      },
      "execution_count": null,
      "outputs": [
        {
          "output_type": "stream",
          "name": "stdout",
          "text": [
            "CPU times: user 80 ms, sys: 14.2 ms, total: 94.1 ms\n",
            "Wall time: 8.74 s\n"
          ]
        },
        {
          "output_type": "execute_result",
          "data": {
            "text/plain": [
              "  summary HeartDiseaseorAttack              HighBP             HighChol  \\\n",
              "0   count               253680              253680               253680   \n",
              "1    mean  0.09418558814254178  0.4290011037527594   0.4241209397666351   \n",
              "2  stddev  0.29208731475075256  0.4949344626899023  0.49420980465688424   \n",
              "3     min                  0.0                 0.0                  0.0   \n",
              "4     max                  1.0                 1.0                  1.0   \n",
              "\n",
              "             CholCheck                 BMI               Smoker  \\\n",
              "0               253680              253680               253680   \n",
              "1   0.9626695048880479  28.382363607694735  0.44316855881425415   \n",
              "2  0.18957075436272522  6.6086942014059975    0.496760666778557   \n",
              "3                  0.0                12.0                  0.0   \n",
              "4                  1.0                98.0                  1.0   \n",
              "\n",
              "                Stroke             Diabetes        PhysActivity  ...  \\\n",
              "0               253680               253680              253680  ...   \n",
              "1  0.04057079785556607  0.29692131819615264  0.7565436770734784  ...   \n",
              "2   0.1972940994001602   0.6981597284091084  0.4291690433970441  ...   \n",
              "3                  0.0                  0.0                 0.0  ...   \n",
              "4                  1.0                  2.0                 1.0  ...   \n",
              "\n",
              "         AnyHealthcare          NoDocbcCost             GenHlth  \\\n",
              "0               253680               253680              253680   \n",
              "1   0.9510525070955534  0.08417691579943236  2.5113923052664773   \n",
              "2  0.21575870631073985   0.2776535008576234  1.0684773622803978   \n",
              "3                  0.0                  0.0                 1.0   \n",
              "4                  1.0                  1.0                 5.0   \n",
              "\n",
              "             MentHlth            PhysHlth             DiffWalk  \\\n",
              "0              253680              253680               253680   \n",
              "1  3.1847721538946705  4.2420805739514345  0.16822374645222327   \n",
              "2   7.412846696196193   8.717951307175234  0.37406559473280016   \n",
              "3                 0.0                 0.0                  0.0   \n",
              "4                30.0                30.0                  1.0   \n",
              "\n",
              "                  Sex                 Age           Education  \\\n",
              "0              253680              253680              253680   \n",
              "1  0.4403421633554084   8.032119205298013   5.050433617155472   \n",
              "2  0.4964291631185047  3.0542204341684847  0.9857741757276464   \n",
              "3                 0.0                 1.0                 1.0   \n",
              "4                 1.0                13.0                 6.0   \n",
              "\n",
              "               Income  \n",
              "0              253680  \n",
              "1   6.053874960580258  \n",
              "2  2.0711475662715304  \n",
              "3                 1.0  \n",
              "4                 8.0  \n",
              "\n",
              "[5 rows x 23 columns]"
            ],
            "text/html": [
              "\n",
              "  <div id=\"df-fb090957-f523-4235-a9cd-1f282b62ca92\">\n",
              "    <div class=\"colab-df-container\">\n",
              "      <div>\n",
              "<style scoped>\n",
              "    .dataframe tbody tr th:only-of-type {\n",
              "        vertical-align: middle;\n",
              "    }\n",
              "\n",
              "    .dataframe tbody tr th {\n",
              "        vertical-align: top;\n",
              "    }\n",
              "\n",
              "    .dataframe thead th {\n",
              "        text-align: right;\n",
              "    }\n",
              "</style>\n",
              "<table border=\"1\" class=\"dataframe\">\n",
              "  <thead>\n",
              "    <tr style=\"text-align: right;\">\n",
              "      <th></th>\n",
              "      <th>summary</th>\n",
              "      <th>HeartDiseaseorAttack</th>\n",
              "      <th>HighBP</th>\n",
              "      <th>HighChol</th>\n",
              "      <th>CholCheck</th>\n",
              "      <th>BMI</th>\n",
              "      <th>Smoker</th>\n",
              "      <th>Stroke</th>\n",
              "      <th>Diabetes</th>\n",
              "      <th>PhysActivity</th>\n",
              "      <th>...</th>\n",
              "      <th>AnyHealthcare</th>\n",
              "      <th>NoDocbcCost</th>\n",
              "      <th>GenHlth</th>\n",
              "      <th>MentHlth</th>\n",
              "      <th>PhysHlth</th>\n",
              "      <th>DiffWalk</th>\n",
              "      <th>Sex</th>\n",
              "      <th>Age</th>\n",
              "      <th>Education</th>\n",
              "      <th>Income</th>\n",
              "    </tr>\n",
              "  </thead>\n",
              "  <tbody>\n",
              "    <tr>\n",
              "      <th>0</th>\n",
              "      <td>count</td>\n",
              "      <td>253680</td>\n",
              "      <td>253680</td>\n",
              "      <td>253680</td>\n",
              "      <td>253680</td>\n",
              "      <td>253680</td>\n",
              "      <td>253680</td>\n",
              "      <td>253680</td>\n",
              "      <td>253680</td>\n",
              "      <td>253680</td>\n",
              "      <td>...</td>\n",
              "      <td>253680</td>\n",
              "      <td>253680</td>\n",
              "      <td>253680</td>\n",
              "      <td>253680</td>\n",
              "      <td>253680</td>\n",
              "      <td>253680</td>\n",
              "      <td>253680</td>\n",
              "      <td>253680</td>\n",
              "      <td>253680</td>\n",
              "      <td>253680</td>\n",
              "    </tr>\n",
              "    <tr>\n",
              "      <th>1</th>\n",
              "      <td>mean</td>\n",
              "      <td>0.09418558814254178</td>\n",
              "      <td>0.4290011037527594</td>\n",
              "      <td>0.4241209397666351</td>\n",
              "      <td>0.9626695048880479</td>\n",
              "      <td>28.382363607694735</td>\n",
              "      <td>0.44316855881425415</td>\n",
              "      <td>0.04057079785556607</td>\n",
              "      <td>0.29692131819615264</td>\n",
              "      <td>0.7565436770734784</td>\n",
              "      <td>...</td>\n",
              "      <td>0.9510525070955534</td>\n",
              "      <td>0.08417691579943236</td>\n",
              "      <td>2.5113923052664773</td>\n",
              "      <td>3.1847721538946705</td>\n",
              "      <td>4.2420805739514345</td>\n",
              "      <td>0.16822374645222327</td>\n",
              "      <td>0.4403421633554084</td>\n",
              "      <td>8.032119205298013</td>\n",
              "      <td>5.050433617155472</td>\n",
              "      <td>6.053874960580258</td>\n",
              "    </tr>\n",
              "    <tr>\n",
              "      <th>2</th>\n",
              "      <td>stddev</td>\n",
              "      <td>0.29208731475075256</td>\n",
              "      <td>0.4949344626899023</td>\n",
              "      <td>0.49420980465688424</td>\n",
              "      <td>0.18957075436272522</td>\n",
              "      <td>6.6086942014059975</td>\n",
              "      <td>0.496760666778557</td>\n",
              "      <td>0.1972940994001602</td>\n",
              "      <td>0.6981597284091084</td>\n",
              "      <td>0.4291690433970441</td>\n",
              "      <td>...</td>\n",
              "      <td>0.21575870631073985</td>\n",
              "      <td>0.2776535008576234</td>\n",
              "      <td>1.0684773622803978</td>\n",
              "      <td>7.412846696196193</td>\n",
              "      <td>8.717951307175234</td>\n",
              "      <td>0.37406559473280016</td>\n",
              "      <td>0.4964291631185047</td>\n",
              "      <td>3.0542204341684847</td>\n",
              "      <td>0.9857741757276464</td>\n",
              "      <td>2.0711475662715304</td>\n",
              "    </tr>\n",
              "    <tr>\n",
              "      <th>3</th>\n",
              "      <td>min</td>\n",
              "      <td>0.0</td>\n",
              "      <td>0.0</td>\n",
              "      <td>0.0</td>\n",
              "      <td>0.0</td>\n",
              "      <td>12.0</td>\n",
              "      <td>0.0</td>\n",
              "      <td>0.0</td>\n",
              "      <td>0.0</td>\n",
              "      <td>0.0</td>\n",
              "      <td>...</td>\n",
              "      <td>0.0</td>\n",
              "      <td>0.0</td>\n",
              "      <td>1.0</td>\n",
              "      <td>0.0</td>\n",
              "      <td>0.0</td>\n",
              "      <td>0.0</td>\n",
              "      <td>0.0</td>\n",
              "      <td>1.0</td>\n",
              "      <td>1.0</td>\n",
              "      <td>1.0</td>\n",
              "    </tr>\n",
              "    <tr>\n",
              "      <th>4</th>\n",
              "      <td>max</td>\n",
              "      <td>1.0</td>\n",
              "      <td>1.0</td>\n",
              "      <td>1.0</td>\n",
              "      <td>1.0</td>\n",
              "      <td>98.0</td>\n",
              "      <td>1.0</td>\n",
              "      <td>1.0</td>\n",
              "      <td>2.0</td>\n",
              "      <td>1.0</td>\n",
              "      <td>...</td>\n",
              "      <td>1.0</td>\n",
              "      <td>1.0</td>\n",
              "      <td>5.0</td>\n",
              "      <td>30.0</td>\n",
              "      <td>30.0</td>\n",
              "      <td>1.0</td>\n",
              "      <td>1.0</td>\n",
              "      <td>13.0</td>\n",
              "      <td>6.0</td>\n",
              "      <td>8.0</td>\n",
              "    </tr>\n",
              "  </tbody>\n",
              "</table>\n",
              "<p>5 rows × 23 columns</p>\n",
              "</div>\n",
              "      <button class=\"colab-df-convert\" onclick=\"convertToInteractive('df-fb090957-f523-4235-a9cd-1f282b62ca92')\"\n",
              "              title=\"Convert this dataframe to an interactive table.\"\n",
              "              style=\"display:none;\">\n",
              "        \n",
              "  <svg xmlns=\"http://www.w3.org/2000/svg\" height=\"24px\"viewBox=\"0 0 24 24\"\n",
              "       width=\"24px\">\n",
              "    <path d=\"M0 0h24v24H0V0z\" fill=\"none\"/>\n",
              "    <path d=\"M18.56 5.44l.94 2.06.94-2.06 2.06-.94-2.06-.94-.94-2.06-.94 2.06-2.06.94zm-11 1L8.5 8.5l.94-2.06 2.06-.94-2.06-.94L8.5 2.5l-.94 2.06-2.06.94zm10 10l.94 2.06.94-2.06 2.06-.94-2.06-.94-.94-2.06-.94 2.06-2.06.94z\"/><path d=\"M17.41 7.96l-1.37-1.37c-.4-.4-.92-.59-1.43-.59-.52 0-1.04.2-1.43.59L10.3 9.45l-7.72 7.72c-.78.78-.78 2.05 0 2.83L4 21.41c.39.39.9.59 1.41.59.51 0 1.02-.2 1.41-.59l7.78-7.78 2.81-2.81c.8-.78.8-2.07 0-2.86zM5.41 20L4 18.59l7.72-7.72 1.47 1.35L5.41 20z\"/>\n",
              "  </svg>\n",
              "      </button>\n",
              "      \n",
              "  <style>\n",
              "    .colab-df-container {\n",
              "      display:flex;\n",
              "      flex-wrap:wrap;\n",
              "      gap: 12px;\n",
              "    }\n",
              "\n",
              "    .colab-df-convert {\n",
              "      background-color: #E8F0FE;\n",
              "      border: none;\n",
              "      border-radius: 50%;\n",
              "      cursor: pointer;\n",
              "      display: none;\n",
              "      fill: #1967D2;\n",
              "      height: 32px;\n",
              "      padding: 0 0 0 0;\n",
              "      width: 32px;\n",
              "    }\n",
              "\n",
              "    .colab-df-convert:hover {\n",
              "      background-color: #E2EBFA;\n",
              "      box-shadow: 0px 1px 2px rgba(60, 64, 67, 0.3), 0px 1px 3px 1px rgba(60, 64, 67, 0.15);\n",
              "      fill: #174EA6;\n",
              "    }\n",
              "\n",
              "    [theme=dark] .colab-df-convert {\n",
              "      background-color: #3B4455;\n",
              "      fill: #D2E3FC;\n",
              "    }\n",
              "\n",
              "    [theme=dark] .colab-df-convert:hover {\n",
              "      background-color: #434B5C;\n",
              "      box-shadow: 0px 1px 3px 1px rgba(0, 0, 0, 0.15);\n",
              "      filter: drop-shadow(0px 1px 2px rgba(0, 0, 0, 0.3));\n",
              "      fill: #FFFFFF;\n",
              "    }\n",
              "  </style>\n",
              "\n",
              "      <script>\n",
              "        const buttonEl =\n",
              "          document.querySelector('#df-fb090957-f523-4235-a9cd-1f282b62ca92 button.colab-df-convert');\n",
              "        buttonEl.style.display =\n",
              "          google.colab.kernel.accessAllowed ? 'block' : 'none';\n",
              "\n",
              "        async function convertToInteractive(key) {\n",
              "          const element = document.querySelector('#df-fb090957-f523-4235-a9cd-1f282b62ca92');\n",
              "          const dataTable =\n",
              "            await google.colab.kernel.invokeFunction('convertToInteractive',\n",
              "                                                     [key], {});\n",
              "          if (!dataTable) return;\n",
              "\n",
              "          const docLinkHtml = 'Like what you see? Visit the ' +\n",
              "            '<a target=\"_blank\" href=https://colab.research.google.com/notebooks/data_table.ipynb>data table notebook</a>'\n",
              "            + ' to learn more about interactive tables.';\n",
              "          element.innerHTML = '';\n",
              "          dataTable['output_type'] = 'display_data';\n",
              "          await google.colab.output.renderOutput(dataTable, element);\n",
              "          const docLink = document.createElement('div');\n",
              "          docLink.innerHTML = docLinkHtml;\n",
              "          element.appendChild(docLink);\n",
              "        }\n",
              "      </script>\n",
              "    </div>\n",
              "  </div>\n",
              "  "
            ]
          },
          "metadata": {},
          "execution_count": 7
        }
      ]
    },
    {
      "cell_type": "markdown",
      "source": [
        "### 2.2 Feature Conversion/Cleansing"
      ],
      "metadata": {
        "id": "okrZBsBOdQEG"
      }
    },
    {
      "cell_type": "code",
      "source": [
        "%%time\n",
        "# Change target variable name\n",
        "# Elaboration: Simplify the name.\n",
        "\n",
        "df = df.withColumnRenamed('HeartDiseaseorAttack', 'HeartDisease')\n",
        "df.show()"
      ],
      "metadata": {
        "colab": {
          "base_uri": "https://localhost:8080/"
        },
        "id": "wnfE9FJ-6bmS",
        "outputId": "974ded17-e52d-4c6a-afb8-d79019289c84"
      },
      "execution_count": null,
      "outputs": [
        {
          "output_type": "stream",
          "name": "stdout",
          "text": [
            "+------------+------+--------+---------+----+------+------+--------+------------+------+-------+-----------------+-------------+-----------+-------+--------+--------+--------+---+----+---------+------+\n",
            "|HeartDisease|HighBP|HighChol|CholCheck| BMI|Smoker|Stroke|Diabetes|PhysActivity|Fruits|Veggies|HvyAlcoholConsump|AnyHealthcare|NoDocbcCost|GenHlth|MentHlth|PhysHlth|DiffWalk|Sex| Age|Education|Income|\n",
            "+------------+------+--------+---------+----+------+------+--------+------------+------+-------+-----------------+-------------+-----------+-------+--------+--------+--------+---+----+---------+------+\n",
            "|         0.0|   1.0|     1.0|      1.0|40.0|   1.0|   0.0|     0.0|         0.0|   0.0|    1.0|              0.0|          1.0|        0.0|    5.0|    18.0|    15.0|     1.0|0.0| 9.0|      4.0|   3.0|\n",
            "|         0.0|   0.0|     0.0|      0.0|25.0|   1.0|   0.0|     0.0|         1.0|   0.0|    0.0|              0.0|          0.0|        1.0|    3.0|     0.0|     0.0|     0.0|0.0| 7.0|      6.0|   1.0|\n",
            "|         0.0|   1.0|     1.0|      1.0|28.0|   0.0|   0.0|     0.0|         0.0|   1.0|    0.0|              0.0|          1.0|        1.0|    5.0|    30.0|    30.0|     1.0|0.0| 9.0|      4.0|   8.0|\n",
            "|         0.0|   1.0|     0.0|      1.0|27.0|   0.0|   0.0|     0.0|         1.0|   1.0|    1.0|              0.0|          1.0|        0.0|    2.0|     0.0|     0.0|     0.0|0.0|11.0|      3.0|   6.0|\n",
            "|         0.0|   1.0|     1.0|      1.0|24.0|   0.0|   0.0|     0.0|         1.0|   1.0|    1.0|              0.0|          1.0|        0.0|    2.0|     3.0|     0.0|     0.0|0.0|11.0|      5.0|   4.0|\n",
            "|         0.0|   1.0|     1.0|      1.0|25.0|   1.0|   0.0|     0.0|         1.0|   1.0|    1.0|              0.0|          1.0|        0.0|    2.0|     0.0|     2.0|     0.0|1.0|10.0|      6.0|   8.0|\n",
            "|         0.0|   1.0|     0.0|      1.0|30.0|   1.0|   0.0|     0.0|         0.0|   0.0|    0.0|              0.0|          1.0|        0.0|    3.0|     0.0|    14.0|     0.0|0.0| 9.0|      6.0|   7.0|\n",
            "|         0.0|   1.0|     1.0|      1.0|25.0|   1.0|   0.0|     0.0|         1.0|   0.0|    1.0|              0.0|          1.0|        0.0|    3.0|     0.0|     0.0|     1.0|0.0|11.0|      4.0|   4.0|\n",
            "|         1.0|   1.0|     1.0|      1.0|30.0|   1.0|   0.0|     2.0|         0.0|   1.0|    1.0|              0.0|          1.0|        0.0|    5.0|    30.0|    30.0|     1.0|0.0| 9.0|      5.0|   1.0|\n",
            "|         0.0|   0.0|     0.0|      1.0|24.0|   0.0|   0.0|     0.0|         0.0|   0.0|    1.0|              0.0|          1.0|        0.0|    2.0|     0.0|     0.0|     0.0|1.0| 8.0|      4.0|   3.0|\n",
            "|         0.0|   0.0|     0.0|      1.0|25.0|   1.0|   0.0|     2.0|         1.0|   1.0|    1.0|              0.0|          1.0|        0.0|    3.0|     0.0|     0.0|     0.0|1.0|13.0|      6.0|   8.0|\n",
            "|         0.0|   1.0|     1.0|      1.0|34.0|   1.0|   0.0|     0.0|         0.0|   1.0|    1.0|              0.0|          1.0|        0.0|    3.0|     0.0|    30.0|     1.0|0.0|10.0|      5.0|   1.0|\n",
            "|         0.0|   0.0|     0.0|      1.0|26.0|   1.0|   0.0|     0.0|         0.0|   0.0|    1.0|              0.0|          1.0|        0.0|    3.0|     0.0|    15.0|     0.0|0.0| 7.0|      5.0|   7.0|\n",
            "|         0.0|   1.0|     1.0|      1.0|28.0|   0.0|   0.0|     2.0|         0.0|   0.0|    1.0|              0.0|          1.0|        0.0|    4.0|     0.0|     0.0|     1.0|0.0|11.0|      4.0|   6.0|\n",
            "|         0.0|   0.0|     1.0|      1.0|33.0|   1.0|   1.0|     0.0|         1.0|   0.0|    1.0|              0.0|          1.0|        1.0|    4.0|    30.0|    28.0|     0.0|0.0| 4.0|      6.0|   2.0|\n",
            "|         0.0|   1.0|     0.0|      1.0|33.0|   0.0|   0.0|     0.0|         1.0|   0.0|    0.0|              0.0|          1.0|        0.0|    2.0|     5.0|     0.0|     0.0|0.0| 6.0|      6.0|   8.0|\n",
            "|         0.0|   1.0|     1.0|      1.0|21.0|   0.0|   0.0|     0.0|         1.0|   1.0|    1.0|              0.0|          1.0|        0.0|    3.0|     0.0|     0.0|     0.0|0.0|10.0|      4.0|   3.0|\n",
            "|         0.0|   0.0|     0.0|      1.0|23.0|   1.0|   0.0|     2.0|         1.0|   0.0|    0.0|              0.0|          1.0|        0.0|    2.0|     0.0|     0.0|     0.0|1.0| 7.0|      5.0|   6.0|\n",
            "|         0.0|   0.0|     0.0|      0.0|23.0|   0.0|   0.0|     0.0|         0.0|   0.0|    1.0|              0.0|          1.0|        0.0|    2.0|    15.0|     0.0|     0.0|0.0| 2.0|      6.0|   7.0|\n",
            "|         0.0|   0.0|     1.0|      1.0|28.0|   0.0|   0.0|     0.0|         0.0|   0.0|    0.0|              1.0|          1.0|        0.0|    2.0|    10.0|     0.0|     0.0|1.0| 4.0|      6.0|   8.0|\n",
            "+------------+------+--------+---------+----+------+------+--------+------------+------+-------+-----------------+-------------+-----------+-------+--------+--------+--------+---+----+---------+------+\n",
            "only showing top 20 rows\n",
            "\n",
            "CPU times: user 3.33 ms, sys: 80 µs, total: 3.41 ms\n",
            "Wall time: 393 ms\n"
          ]
        }
      ]
    },
    {
      "cell_type": "code",
      "source": [
        "%%time\n",
        "'''\n",
        "# Group by and show the count of the target class.\n",
        "# Elaboration: Check whether the target class is balanced or not\n",
        "              (results show not balanced).\n",
        "'''\n",
        "\n",
        "df.groupby(\"HeartDisease\").count().show()"
      ],
      "metadata": {
        "colab": {
          "base_uri": "https://localhost:8080/"
        },
        "id": "uLvmDClu6ZOn",
        "outputId": "dcb435e0-a74b-46c0-ab3f-808258d370c8"
      },
      "execution_count": null,
      "outputs": [
        {
          "output_type": "stream",
          "name": "stdout",
          "text": [
            "+------------+------+\n",
            "|HeartDisease| count|\n",
            "+------------+------+\n",
            "|         0.0|229787|\n",
            "|         1.0| 23893|\n",
            "+------------+------+\n",
            "\n",
            "CPU times: user 16.3 ms, sys: 1.78 ms, total: 18.1 ms\n",
            "Wall time: 1.74 s\n"
          ]
        }
      ]
    },
    {
      "cell_type": "code",
      "source": [
        "%%time\n",
        "# Convert numerical variables from Double/Float to Integer Type\n",
        "# Elaboration: For personal understanding.\n",
        "\n",
        "df = df.withColumn(\"BMI\", df[\"BMI\"].cast(IntegerType()))\n",
        "df = df.withColumn(\"MentHlth\", df[\"MentHlth\"].cast(IntegerType()))\n",
        "df = df.withColumn(\"PhysHlth\", df[\"PhysHlth\"].cast(IntegerType()))\n",
        "\n",
        "df.printSchema()"
      ],
      "metadata": {
        "id": "4_sphY4HBt3w",
        "colab": {
          "base_uri": "https://localhost:8080/"
        },
        "outputId": "a6cfe026-4316-4db5-b1d8-6f5c82c6f965"
      },
      "execution_count": null,
      "outputs": [
        {
          "output_type": "stream",
          "name": "stdout",
          "text": [
            "root\n",
            " |-- HeartDisease: double (nullable = true)\n",
            " |-- HighBP: double (nullable = true)\n",
            " |-- HighChol: double (nullable = true)\n",
            " |-- CholCheck: double (nullable = true)\n",
            " |-- BMI: integer (nullable = true)\n",
            " |-- Smoker: double (nullable = true)\n",
            " |-- Stroke: double (nullable = true)\n",
            " |-- Diabetes: double (nullable = true)\n",
            " |-- PhysActivity: double (nullable = true)\n",
            " |-- Fruits: double (nullable = true)\n",
            " |-- Veggies: double (nullable = true)\n",
            " |-- HvyAlcoholConsump: double (nullable = true)\n",
            " |-- AnyHealthcare: double (nullable = true)\n",
            " |-- NoDocbcCost: double (nullable = true)\n",
            " |-- GenHlth: double (nullable = true)\n",
            " |-- MentHlth: integer (nullable = true)\n",
            " |-- PhysHlth: integer (nullable = true)\n",
            " |-- DiffWalk: double (nullable = true)\n",
            " |-- Sex: double (nullable = true)\n",
            " |-- Age: double (nullable = true)\n",
            " |-- Education: double (nullable = true)\n",
            " |-- Income: double (nullable = true)\n",
            "\n",
            "CPU times: user 12.2 ms, sys: 0 ns, total: 12.2 ms\n",
            "Wall time: 112 ms\n"
          ]
        }
      ]
    },
    {
      "cell_type": "code",
      "source": [],
      "metadata": {
        "id": "SgZyf1ubH5S2"
      },
      "execution_count": null,
      "outputs": []
    },
    {
      "cell_type": "markdown",
      "source": [
        "### 2.3 Check For Whitespaces and Missing/Null values"
      ],
      "metadata": {
        "id": "Qo_K5xSRdUUy"
      }
    },
    {
      "cell_type": "code",
      "source": [
        "%%time\n",
        "'''\n",
        "# Find amd show the count for empty, None, Null, Nan with string literals.\n",
        "# Identify number of missing (null) values and whitespaces in the dataset.\n",
        "# Elaboration: The reason for the missing data is important to consider,\n",
        "              because it helps to determine the type of missing data and\n",
        "              what to do about it.\n",
        "'''\n",
        "\n",
        "df1 = df.select([count(when(col(c).contains('None') | \\\n",
        "                            col(c).contains('NULL') | \\\n",
        "                            (col(c) == '' ) | \\\n",
        "                            col(c).isNull() | \\\n",
        "                            isnan(c), c\n",
        "                           )).alias(c)\n",
        "                    for c in df.columns])\n",
        "\n",
        "df1.show()"
      ],
      "metadata": {
        "colab": {
          "base_uri": "https://localhost:8080/"
        },
        "id": "HeHq0jcNmVOB",
        "outputId": "cada279c-180b-484c-e7e3-10c7e0fa0377"
      },
      "execution_count": null,
      "outputs": [
        {
          "output_type": "stream",
          "name": "stdout",
          "text": [
            "+------------+------+--------+---------+---+------+------+--------+------------+------+-------+-----------------+-------------+-----------+-------+--------+--------+--------+---+---+---------+------+\n",
            "|HeartDisease|HighBP|HighChol|CholCheck|BMI|Smoker|Stroke|Diabetes|PhysActivity|Fruits|Veggies|HvyAlcoholConsump|AnyHealthcare|NoDocbcCost|GenHlth|MentHlth|PhysHlth|DiffWalk|Sex|Age|Education|Income|\n",
            "+------------+------+--------+---------+---+------+------+--------+------------+------+-------+-----------------+-------------+-----------+-------+--------+--------+--------+---+---+---------+------+\n",
            "|           0|     0|       0|        0|  0|     0|     0|       0|           0|     0|      0|                0|            0|          0|      0|       0|       0|       0|  0|  0|        0|     0|\n",
            "+------------+------+--------+---------+---+------+------+--------+------------+------+-------+-----------------+-------------+-----------+-------+--------+--------+--------+---+---+---------+------+\n",
            "\n",
            "CPU times: user 124 ms, sys: 25.9 ms, total: 150 ms\n",
            "Wall time: 4.69 s\n"
          ]
        }
      ]
    },
    {
      "cell_type": "markdown",
      "source": [
        "## 3.Exploratory Data Analysis (EDA)"
      ],
      "metadata": {
        "id": "Z5lGC-piEYdH"
      }
    },
    {
      "cell_type": "markdown",
      "source": [
        "### 3.1 Distribution of Heart Disease"
      ],
      "metadata": {
        "id": "IR9bQAs5exYI"
      }
    },
    {
      "cell_type": "code",
      "source": [
        "%%time\n",
        "# Distribution of Heart Disease.\n",
        "# Elaboration: Visualize the target class for easier understanding.\n",
        "\n",
        "# Show the barchart of target class.\n",
        "df_pd = df.toPandas()\n",
        "plt.figure(figsize=(12,10))\n",
        "ax_vc = sns.countplot(x='HeartDisease', data=df_pd, order=df_pd['HeartDisease'].value_counts().index)\n",
        "\n",
        "# Display percentages above each bar so that the sum per value equals 100%\n",
        "bars = ax_vc.patches\n",
        "half = int(len(bars)/2)\n",
        "left_bars = bars[:half]\n",
        "right_bars = bars[half:]\n",
        "for left, right in zip(left_bars, right_bars):\n",
        "    height_l = left.get_height()\n",
        "    height_r = right.get_height()\n",
        "    total = height_l + height_r\n",
        "    ax_vc.text(left.get_x() + left.get_width()/2., height_l + 40, '{0:.0f}\\n{1:.0%}'.format(height_l, height_l/total), ha=\"center\")\n",
        "    ax_vc.text(right.get_x() + right.get_width()/2., height_r + 40, '{0:.0f}\\n{1:.0%}'.format(height_r, height_r/total), ha=\"center\")\n",
        "plt.margins(0.07)\n",
        "\n",
        "# Display title\n",
        "plt.title('Heart Disease Frequency');\n",
        "\n",
        "plt.show()"
      ],
      "metadata": {
        "colab": {
          "base_uri": "https://localhost:8080/",
          "height": 656
        },
        "id": "9C68ZjMhkfm2",
        "outputId": "b3895dcb-ac7a-4c90-fd62-50fdc3d1c5bd"
      },
      "execution_count": null,
      "outputs": [
        {
          "output_type": "display_data",
          "data": {
            "text/plain": [
              "<Figure size 864x720 with 1 Axes>"
            ],
            "image/png": "[encoded data removed]"
          },
          "metadata": {
            "needs_background": "light"
          }
        },
        {
          "output_type": "stream",
          "name": "stdout",
          "text": [
            "CPU times: user 3.58 s, sys: 942 ms, total: 4.52 s\n",
            "Wall time: 9.18 s\n"
          ]
        }
      ]
    },
    {
      "cell_type": "markdown",
      "source": [
        "### 3.2 Distribution of All Features"
      ],
      "metadata": {
        "id": "ubcKFdI4e4vs"
      }
    },
    {
      "cell_type": "code",
      "source": [
        "%%time\n",
        "'''\n",
        "# Show the distribution of all features.\n",
        "# Elaboration: To see if there are any extreme values (outliers),\n",
        "          if there are missing data, or data that has been entered incorrectly.\n",
        "'''\n",
        "\n",
        "plot_size_x, plot_size_y = 5, 5\n",
        "figsize_x, figsize_y = plot_size_x * 4 + 3, plot_size_y * 6 + 1\n",
        "figsize=(figsize_x, figsize_y)\n",
        "fig = plt.figure(figsize=figsize)\n",
        "st = fig.suptitle(\"Distribution of Features\", fontsize=50, verticalalignment=\"center\")\n",
        "\n",
        "for col, num in zip(df_pd.describe().columns, range(1,24)):\n",
        "  ax = fig.add_subplot(6, 4, num)\n",
        "  ax.hist(df.toPandas()[col])\n",
        "  plt.grid(False)\n",
        "  plt.xticks(rotation=45, fontsize=20)\n",
        "  plt.yticks(fontsize=15)\n",
        "  plt.title(col.upper(), fontsize=20)\n",
        "\n",
        "plt.tight_layout()\n",
        "st.set_y(0.95)\n",
        "fig.subplots_adjust(top=0.85, hspace=0.4) # original is (top=0.85, hspace=0.4)\n",
        "plt.show()"
      ],
      "metadata": {
        "colab": {
          "base_uri": "https://localhost:8080/",
          "height": 1000
        },
        "id": "cxQPngBpcFrU",
        "outputId": "c688c31c-b1f3-4d60-9aad-160cb7f5f3a5"
      },
      "execution_count": null,
      "outputs": [
        {
          "output_type": "display_data",
          "data": {
            "text/plain": [
              "<Figure size 1656x2232 with 22 Axes>"
            ],
            "image/png": "[encoded data removed]"
          },
          "metadata": {
            "needs_background": "light"
          }
        },
        {
          "output_type": "stream",
          "name": "stdout",
          "text": [
            "CPU times: user 1min 16s, sys: 3.05 s, total: 1min 19s\n",
            "Wall time: 1min 55s\n"
          ]
        }
      ]
    },
    {
      "cell_type": "markdown",
      "source": [
        "### 3.3 Age Group and BMI"
      ],
      "metadata": {
        "id": "JyrKroWOfBNA"
      }
    },
    {
      "cell_type": "code",
      "source": [
        "%%time\n",
        "# Use unbounded window frame and functions: ranking/analytic/aggregate functions for calculation\n",
        "window = Window.rowsBetween(Window.unboundedPreceding, Window.unboundedFollowing)\n",
        "\n",
        "# Create age group table\n",
        "age_group_tab = df.select(['Age','BMI']).\\\n",
        "                      groupBy('Age').\\\n",
        "                          agg(\n",
        "                              F.count('BMI').alias('Count'),\n",
        "                              F.mean('BMI').alias('BMI_AVG'),\n",
        "                              F.min('BMI').alias('BMI_MIN'),\n",
        "                              F.max('BMI').alias('BMI_MAX')).\\\n",
        "                          withColumn('total', sum(F.col('Count')).over(window)).\\\n",
        "                          withColumn('Percent', F.col('Count')*100 / F.col('total')).\\\n",
        "                          drop(F.col('total')).sort(desc('Percent'))\n",
        "\n",
        "# Show the age group table with BMI (Avg, Min, Max) and overall count (%)\n",
        "age_group_tab.toPandas()\n",
        "age_group_tab.show()"
      ],
      "metadata": {
        "colab": {
          "base_uri": "https://localhost:8080/"
        },
        "id": "GUb_VAzr8E1j",
        "outputId": "5bb1b06c-7564-434e-e027-5dfef0b7a30d"
      },
      "execution_count": null,
      "outputs": [
        {
          "output_type": "stream",
          "name": "stdout",
          "text": [
            "+----+-----+------------------+-------+-------+------------------+\n",
            "| Age|Count|           BMI_AVG|BMI_MIN|BMI_MAX|           Percent|\n",
            "+----+-----+------------------+-------+-------+------------------+\n",
            "| 9.0|33244| 28.75472265672001|     12|     95|13.104698833175654|\n",
            "|10.0|32194|28.667733117972293|     13|     98|12.690791548407443|\n",
            "| 8.0|30832|28.915217955371045|     13|     98|12.153894670450962|\n",
            "| 7.0|26314|28.942996123736414|     12|     95|10.372910753705456|\n",
            "|11.0|23533|28.135129392767602|     12|     98| 9.276647745190791|\n",
            "| 6.0|19819| 29.01276552802866|     12|     96| 7.812598549353516|\n",
            "|13.0|17363|26.150146864021195|     12|     98| 6.844449700409966|\n",
            "| 5.0|16157|28.907656124280496|     13|     92| 6.369047619047619|\n",
            "|12.0|15980|27.530600750938675|     14|     92|  6.29927467675812|\n",
            "| 4.0|13823| 28.59111625551617|     13|     92| 5.448990854619994|\n",
            "| 3.0|11123|28.431538254068148|     13|     98| 4.384657836644592|\n",
            "| 2.0| 7598|27.606343774677548|     13|     92|2.9951119520655944|\n",
            "| 1.0| 5700|26.088070175438595|     14|     92|2.2469252601702934|\n",
            "+----+-----+------------------+-------+-------+------------------+\n",
            "\n",
            "CPU times: user 47.7 ms, sys: 7.15 ms, total: 54.9 ms\n",
            "Wall time: 3.58 s\n"
          ]
        }
      ]
    },
    {
      "cell_type": "code",
      "source": [
        "%%time\n",
        "# Show the Age group and overall count (%)\n",
        "sns.barplot(x=\"Age\", y=\"Percent\",data=age_group_tab.toPandas());"
      ],
      "metadata": {
        "colab": {
          "base_uri": "https://localhost:8080/",
          "height": 331
        },
        "id": "yncogPmN-Gxw",
        "outputId": "2045a407-12df-47e2-ff7d-d3a18bd0cde9"
      },
      "execution_count": null,
      "outputs": [
        {
          "output_type": "stream",
          "name": "stdout",
          "text": [
            "CPU times: user 91.7 ms, sys: 801 µs, total: 92.5 ms\n",
            "Wall time: 182 ms\n"
          ]
        },
        {
          "output_type": "execute_result",
          "data": {
            "text/plain": [
              "<matplotlib.axes._subplots.AxesSubplot at 0x7f9dcccd5310>"
            ]
          },
          "metadata": {},
          "execution_count": 15
        },
        {
          "output_type": "display_data",
          "data": {
            "text/plain": [
              "<Figure size 432x288 with 1 Axes>"
            ],
            "image/png": "[encoded data removed]"
          },
          "metadata": {
            "needs_background": "light"
          }
        }
      ]
    },
    {
      "cell_type": "markdown",
      "source": [
        "### 3.4 Heatmap of Correlation Coefficients"
      ],
      "metadata": {
        "id": "ePt4G64ifE7F"
      }
    },
    {
      "cell_type": "code",
      "source": [
        "%%time\n",
        "# Check correlation\n",
        "# Elaboration: Need to change to pandas dataframe first.\n",
        "\n",
        "# Drop the target class column\n",
        "df_corr = df.drop('HeartDisease')\n",
        "\n",
        "# Select all the columns in the dataframe\n",
        "df_corr.select(df_corr.columns)\n",
        "\n",
        "# Convert dataframe into pandas dataframe to check correlation\n",
        "df_corr.toPandas().head()"
      ],
      "metadata": {
        "id": "1-mQRCpA-G55",
        "colab": {
          "base_uri": "https://localhost:8080/",
          "height": 334
        },
        "outputId": "561eee83-440a-42db-9073-c6b7edad6957"
      },
      "execution_count": null,
      "outputs": [
        {
          "output_type": "stream",
          "name": "stdout",
          "text": [
            "CPU times: user 3.14 s, sys: 187 ms, total: 3.33 s\n",
            "Wall time: 5.94 s\n"
          ]
        },
        {
          "output_type": "execute_result",
          "data": {
            "text/plain": [
              "   HighBP  HighChol  CholCheck  BMI  Smoker  Stroke  Diabetes  PhysActivity  \\\n",
              "0     1.0       1.0        1.0   40     1.0     0.0       0.0           0.0   \n",
              "1     0.0       0.0        0.0   25     1.0     0.0       0.0           1.0   \n",
              "2     1.0       1.0        1.0   28     0.0     0.0       0.0           0.0   \n",
              "3     1.0       0.0        1.0   27     0.0     0.0       0.0           1.0   \n",
              "4     1.0       1.0        1.0   24     0.0     0.0       0.0           1.0   \n",
              "\n",
              "   Fruits  Veggies  ...  AnyHealthcare  NoDocbcCost  GenHlth  MentHlth  \\\n",
              "0     0.0      1.0  ...            1.0          0.0      5.0        18   \n",
              "1     0.0      0.0  ...            0.0          1.0      3.0         0   \n",
              "2     1.0      0.0  ...            1.0          1.0      5.0        30   \n",
              "3     1.0      1.0  ...            1.0          0.0      2.0         0   \n",
              "4     1.0      1.0  ...            1.0          0.0      2.0         3   \n",
              "\n",
              "   PhysHlth  DiffWalk  Sex   Age  Education  Income  \n",
              "0        15       1.0  0.0   9.0        4.0     3.0  \n",
              "1         0       0.0  0.0   7.0        6.0     1.0  \n",
              "2        30       1.0  0.0   9.0        4.0     8.0  \n",
              "3         0       0.0  0.0  11.0        3.0     6.0  \n",
              "4         0       0.0  0.0  11.0        5.0     4.0  \n",
              "\n",
              "[5 rows x 21 columns]"
            ],
            "text/html": [
              "\n",
              "  <div id=\"df-e664866e-b38c-42a1-9c62-14de91ed71e7\">\n",
              "    <div class=\"colab-df-container\">\n",
              "      <div>\n",
              "<style scoped>\n",
              "    .dataframe tbody tr th:only-of-type {\n",
              "        vertical-align: middle;\n",
              "    }\n",
              "\n",
              "    .dataframe tbody tr th {\n",
              "        vertical-align: top;\n",
              "    }\n",
              "\n",
              "    .dataframe thead th {\n",
              "        text-align: right;\n",
              "    }\n",
              "</style>\n",
              "<table border=\"1\" class=\"dataframe\">\n",
              "  <thead>\n",
              "    <tr style=\"text-align: right;\">\n",
              "      <th></th>\n",
              "      <th>HighBP</th>\n",
              "      <th>HighChol</th>\n",
              "      <th>CholCheck</th>\n",
              "      <th>BMI</th>\n",
              "      <th>Smoker</th>\n",
              "      <th>Stroke</th>\n",
              "      <th>Diabetes</th>\n",
              "      <th>PhysActivity</th>\n",
              "      <th>Fruits</th>\n",
              "      <th>Veggies</th>\n",
              "      <th>...</th>\n",
              "      <th>AnyHealthcare</th>\n",
              "      <th>NoDocbcCost</th>\n",
              "      <th>GenHlth</th>\n",
              "      <th>MentHlth</th>\n",
              "      <th>PhysHlth</th>\n",
              "      <th>DiffWalk</th>\n",
              "      <th>Sex</th>\n",
              "      <th>Age</th>\n",
              "      <th>Education</th>\n",
              "      <th>Income</th>\n",
              "    </tr>\n",
              "  </thead>\n",
              "  <tbody>\n",
              "    <tr>\n",
              "      <th>0</th>\n",
              "      <td>1.0</td>\n",
              "      <td>1.0</td>\n",
              "      <td>1.0</td>\n",
              "      <td>40</td>\n",
              "      <td>1.0</td>\n",
              "      <td>0.0</td>\n",
              "      <td>0.0</td>\n",
              "      <td>0.0</td>\n",
              "      <td>0.0</td>\n",
              "      <td>1.0</td>\n",
              "      <td>...</td>\n",
              "      <td>1.0</td>\n",
              "      <td>0.0</td>\n",
              "      <td>5.0</td>\n",
              "      <td>18</td>\n",
              "      <td>15</td>\n",
              "      <td>1.0</td>\n",
              "      <td>0.0</td>\n",
              "      <td>9.0</td>\n",
              "      <td>4.0</td>\n",
              "      <td>3.0</td>\n",
              "    </tr>\n",
              "    <tr>\n",
              "      <th>1</th>\n",
              "      <td>0.0</td>\n",
              "      <td>0.0</td>\n",
              "      <td>0.0</td>\n",
              "      <td>25</td>\n",
              "      <td>1.0</td>\n",
              "      <td>0.0</td>\n",
              "      <td>0.0</td>\n",
              "      <td>1.0</td>\n",
              "      <td>0.0</td>\n",
              "      <td>0.0</td>\n",
              "      <td>...</td>\n",
              "      <td>0.0</td>\n",
              "      <td>1.0</td>\n",
              "      <td>3.0</td>\n",
              "      <td>0</td>\n",
              "      <td>0</td>\n",
              "      <td>0.0</td>\n",
              "      <td>0.0</td>\n",
              "      <td>7.0</td>\n",
              "      <td>6.0</td>\n",
              "      <td>1.0</td>\n",
              "    </tr>\n",
              "    <tr>\n",
              "      <th>2</th>\n",
              "      <td>1.0</td>\n",
              "      <td>1.0</td>\n",
              "      <td>1.0</td>\n",
              "      <td>28</td>\n",
              "      <td>0.0</td>\n",
              "      <td>0.0</td>\n",
              "      <td>0.0</td>\n",
              "      <td>0.0</td>\n",
              "      <td>1.0</td>\n",
              "      <td>0.0</td>\n",
              "      <td>...</td>\n",
              "      <td>1.0</td>\n",
              "      <td>1.0</td>\n",
              "      <td>5.0</td>\n",
              "      <td>30</td>\n",
              "      <td>30</td>\n",
              "      <td>1.0</td>\n",
              "      <td>0.0</td>\n",
              "      <td>9.0</td>\n",
              "      <td>4.0</td>\n",
              "      <td>8.0</td>\n",
              "    </tr>\n",
              "    <tr>\n",
              "      <th>3</th>\n",
              "      <td>1.0</td>\n",
              "      <td>0.0</td>\n",
              "      <td>1.0</td>\n",
              "      <td>27</td>\n",
              "      <td>0.0</td>\n",
              "      <td>0.0</td>\n",
              "      <td>0.0</td>\n",
              "      <td>1.0</td>\n",
              "      <td>1.0</td>\n",
              "      <td>1.0</td>\n",
              "      <td>...</td>\n",
              "      <td>1.0</td>\n",
              "      <td>0.0</td>\n",
              "      <td>2.0</td>\n",
              "      <td>0</td>\n",
              "      <td>0</td>\n",
              "      <td>0.0</td>\n",
              "      <td>0.0</td>\n",
              "      <td>11.0</td>\n",
              "      <td>3.0</td>\n",
              "      <td>6.0</td>\n",
              "    </tr>\n",
              "    <tr>\n",
              "      <th>4</th>\n",
              "      <td>1.0</td>\n",
              "      <td>1.0</td>\n",
              "      <td>1.0</td>\n",
              "      <td>24</td>\n",
              "      <td>0.0</td>\n",
              "      <td>0.0</td>\n",
              "      <td>0.0</td>\n",
              "      <td>1.0</td>\n",
              "      <td>1.0</td>\n",
              "      <td>1.0</td>\n",
              "      <td>...</td>\n",
              "      <td>1.0</td>\n",
              "      <td>0.0</td>\n",
              "      <td>2.0</td>\n",
              "      <td>3</td>\n",
              "      <td>0</td>\n",
              "      <td>0.0</td>\n",
              "      <td>0.0</td>\n",
              "      <td>11.0</td>\n",
              "      <td>5.0</td>\n",
              "      <td>4.0</td>\n",
              "    </tr>\n",
              "  </tbody>\n",
              "</table>\n",
              "<p>5 rows × 21 columns</p>\n",
              "</div>\n",
              "      <button class=\"colab-df-convert\" onclick=\"convertToInteractive('df-e664866e-b38c-42a1-9c62-14de91ed71e7')\"\n",
              "              title=\"Convert this dataframe to an interactive table.\"\n",
              "              style=\"display:none;\">\n",
              "        \n",
              "  <svg xmlns=\"http://www.w3.org/2000/svg\" height=\"24px\"viewBox=\"0 0 24 24\"\n",
              "       width=\"24px\">\n",
              "    <path d=\"M0 0h24v24H0V0z\" fill=\"none\"/>\n",
              "    <path d=\"M18.56 5.44l.94 2.06.94-2.06 2.06-.94-2.06-.94-.94-2.06-.94 2.06-2.06.94zm-11 1L8.5 8.5l.94-2.06 2.06-.94-2.06-.94L8.5 2.5l-.94 2.06-2.06.94zm10 10l.94 2.06.94-2.06 2.06-.94-2.06-.94-.94-2.06-.94 2.06-2.06.94z\"/><path d=\"M17.41 7.96l-1.37-1.37c-.4-.4-.92-.59-1.43-.59-.52 0-1.04.2-1.43.59L10.3 9.45l-7.72 7.72c-.78.78-.78 2.05 0 2.83L4 21.41c.39.39.9.59 1.41.59.51 0 1.02-.2 1.41-.59l7.78-7.78 2.81-2.81c.8-.78.8-2.07 0-2.86zM5.41 20L4 18.59l7.72-7.72 1.47 1.35L5.41 20z\"/>\n",
              "  </svg>\n",
              "      </button>\n",
              "      \n",
              "  <style>\n",
              "    .colab-df-container {\n",
              "      display:flex;\n",
              "      flex-wrap:wrap;\n",
              "      gap: 12px;\n",
              "    }\n",
              "\n",
              "    .colab-df-convert {\n",
              "      background-color: #E8F0FE;\n",
              "      border: none;\n",
              "      border-radius: 50%;\n",
              "      cursor: pointer;\n",
              "      display: none;\n",
              "      fill: #1967D2;\n",
              "      height: 32px;\n",
              "      padding: 0 0 0 0;\n",
              "      width: 32px;\n",
              "    }\n",
              "\n",
              "    .colab-df-convert:hover {\n",
              "      background-color: #E2EBFA;\n",
              "      box-shadow: 0px 1px 2px rgba(60, 64, 67, 0.3), 0px 1px 3px 1px rgba(60, 64, 67, 0.15);\n",
              "      fill: #174EA6;\n",
              "    }\n",
              "\n",
              "    [theme=dark] .colab-df-convert {\n",
              "      background-color: #3B4455;\n",
              "      fill: #D2E3FC;\n",
              "    }\n",
              "\n",
              "    [theme=dark] .colab-df-convert:hover {\n",
              "      background-color: #434B5C;\n",
              "      box-shadow: 0px 1px 3px 1px rgba(0, 0, 0, 0.15);\n",
              "      filter: drop-shadow(0px 1px 2px rgba(0, 0, 0, 0.3));\n",
              "      fill: #FFFFFF;\n",
              "    }\n",
              "  </style>\n",
              "\n",
              "      <script>\n",
              "        const buttonEl =\n",
              "          document.querySelector('#df-e664866e-b38c-42a1-9c62-14de91ed71e7 button.colab-df-convert');\n",
              "        buttonEl.style.display =\n",
              "          google.colab.kernel.accessAllowed ? 'block' : 'none';\n",
              "\n",
              "        async function convertToInteractive(key) {\n",
              "          const element = document.querySelector('#df-e664866e-b38c-42a1-9c62-14de91ed71e7');\n",
              "          const dataTable =\n",
              "            await google.colab.kernel.invokeFunction('convertToInteractive',\n",
              "                                                     [key], {});\n",
              "          if (!dataTable) return;\n",
              "\n",
              "          const docLinkHtml = 'Like what you see? Visit the ' +\n",
              "            '<a target=\"_blank\" href=https://colab.research.google.com/notebooks/data_table.ipynb>data table notebook</a>'\n",
              "            + ' to learn more about interactive tables.';\n",
              "          element.innerHTML = '';\n",
              "          dataTable['output_type'] = 'display_data';\n",
              "          await google.colab.output.renderOutput(dataTable, element);\n",
              "          const docLink = document.createElement('div');\n",
              "          docLink.innerHTML = docLinkHtml;\n",
              "          element.appendChild(docLink);\n",
              "        }\n",
              "      </script>\n",
              "    </div>\n",
              "  </div>\n",
              "  "
            ]
          },
          "metadata": {},
          "execution_count": 16
        }
      ]
    },
    {
      "cell_type": "code",
      "source": [
        "%%time\n",
        "'''\n",
        "# Calculate and show the correlation\n",
        "# Elaboration: Use the Statistics library because PySpark does not support\n",
        "             .corr() function + Check for highly correlated variables.\n",
        "'''\n",
        "\n",
        "col_names = df_corr.columns\n",
        "features = df_corr.rdd.map(lambda row: row[0:])\n",
        "\n",
        "corr_mat = Statistics.corr(features, method=\"pearson\")\n",
        "corr_df = pd.DataFrame(corr_mat)\n",
        "corr_df.index = col_names\n",
        "corr_df.columns = col_names\n",
        "round(corr_df, 2)"
      ],
      "metadata": {
        "colab": {
          "base_uri": "https://localhost:8080/",
          "height": 836
        },
        "id": "MQcUbb6XXmNT",
        "outputId": "b2ad4302-71a8-4323-e3b5-3a8329f7189a"
      },
      "execution_count": null,
      "outputs": [
        {
          "output_type": "stream",
          "name": "stdout",
          "text": [
            "CPU times: user 132 ms, sys: 9.59 ms, total: 142 ms\n",
            "Wall time: 19.2 s\n"
          ]
        },
        {
          "output_type": "execute_result",
          "data": {
            "text/plain": [
              "                   HighBP  HighChol  CholCheck   BMI  Smoker  Stroke  \\\n",
              "HighBP               1.00      0.30       0.10  0.21    0.10    0.13   \n",
              "HighChol             0.30      1.00       0.09  0.11    0.09    0.09   \n",
              "CholCheck            0.10      0.09       1.00  0.03   -0.01    0.02   \n",
              "BMI                  0.21      0.11       0.03  1.00    0.01    0.02   \n",
              "Smoker               0.10      0.09      -0.01  0.01    1.00    0.06   \n",
              "Stroke               0.13      0.09       0.02  0.02    0.06    1.00   \n",
              "Diabetes             0.27      0.21       0.07  0.22    0.06    0.11   \n",
              "PhysActivity        -0.13     -0.08       0.00 -0.15   -0.09   -0.07   \n",
              "Fruits              -0.04     -0.04       0.02 -0.09   -0.08   -0.01   \n",
              "Veggies             -0.06     -0.04       0.01 -0.06   -0.03   -0.04   \n",
              "HvyAlcoholConsump   -0.00     -0.01      -0.02 -0.05    0.10   -0.02   \n",
              "AnyHealthcare        0.04      0.04       0.12 -0.02   -0.02    0.01   \n",
              "NoDocbcCost          0.02      0.01      -0.06  0.06    0.05    0.03   \n",
              "GenHlth              0.30      0.21       0.05  0.24    0.16    0.18   \n",
              "MentHlth             0.06      0.06      -0.01  0.09    0.09    0.07   \n",
              "PhysHlth             0.16      0.12       0.03  0.12    0.12    0.15   \n",
              "DiffWalk             0.22      0.14       0.04  0.20    0.12    0.18   \n",
              "Sex                  0.05      0.03      -0.02  0.04    0.09    0.00   \n",
              "Age                  0.34      0.27       0.09 -0.04    0.12    0.13   \n",
              "Education           -0.14     -0.07       0.00 -0.10   -0.16   -0.08   \n",
              "Income              -0.17     -0.09       0.01 -0.10   -0.12   -0.13   \n",
              "\n",
              "                   Diabetes  PhysActivity  Fruits  Veggies  ...  \\\n",
              "HighBP                 0.27         -0.13   -0.04    -0.06  ...   \n",
              "HighChol               0.21         -0.08   -0.04    -0.04  ...   \n",
              "CholCheck              0.07          0.00    0.02     0.01  ...   \n",
              "BMI                    0.22         -0.15   -0.09    -0.06  ...   \n",
              "Smoker                 0.06         -0.09   -0.08    -0.03  ...   \n",
              "Stroke                 0.11         -0.07   -0.01    -0.04  ...   \n",
              "Diabetes               1.00         -0.12   -0.04    -0.06  ...   \n",
              "PhysActivity          -0.12          1.00    0.14     0.15  ...   \n",
              "Fruits                -0.04          0.14    1.00     0.25  ...   \n",
              "Veggies               -0.06          0.15    0.25     1.00  ...   \n",
              "HvyAlcoholConsump     -0.06          0.01   -0.04     0.02  ...   \n",
              "AnyHealthcare          0.02          0.04    0.03     0.03  ...   \n",
              "NoDocbcCost            0.04         -0.06   -0.04    -0.03  ...   \n",
              "GenHlth                0.30         -0.27   -0.10    -0.12  ...   \n",
              "MentHlth               0.07         -0.13   -0.07    -0.06  ...   \n",
              "PhysHlth               0.18         -0.22   -0.04    -0.06  ...   \n",
              "DiffWalk               0.22         -0.25   -0.05    -0.08  ...   \n",
              "Sex                    0.03          0.03   -0.09    -0.06  ...   \n",
              "Age                    0.19         -0.09    0.06    -0.01  ...   \n",
              "Education             -0.13          0.20    0.11     0.15  ...   \n",
              "Income                -0.17          0.20    0.08     0.15  ...   \n",
              "\n",
              "                   AnyHealthcare  NoDocbcCost  GenHlth  MentHlth  PhysHlth  \\\n",
              "HighBP                      0.04         0.02     0.30      0.06      0.16   \n",
              "HighChol                    0.04         0.01     0.21      0.06      0.12   \n",
              "CholCheck                   0.12        -0.06     0.05     -0.01      0.03   \n",
              "BMI                        -0.02         0.06     0.24      0.09      0.12   \n",
              "Smoker                     -0.02         0.05     0.16      0.09      0.12   \n",
              "Stroke                      0.01         0.03     0.18      0.07      0.15   \n",
              "Diabetes                    0.02         0.04     0.30      0.07      0.18   \n",
              "PhysActivity                0.04        -0.06    -0.27     -0.13     -0.22   \n",
              "Fruits                      0.03        -0.04    -0.10     -0.07     -0.04   \n",
              "Veggies                     0.03        -0.03    -0.12     -0.06     -0.06   \n",
              "HvyAlcoholConsump          -0.01         0.00    -0.04      0.02     -0.03   \n",
              "AnyHealthcare               1.00        -0.23    -0.04     -0.05     -0.01   \n",
              "NoDocbcCost                -0.23         1.00     0.17      0.19      0.15   \n",
              "GenHlth                    -0.04         0.17     1.00      0.30      0.52   \n",
              "MentHlth                   -0.05         0.19     0.30      1.00      0.35   \n",
              "PhysHlth                   -0.01         0.15     0.52      0.35      1.00   \n",
              "DiffWalk                    0.01         0.12     0.46      0.23      0.48   \n",
              "Sex                        -0.02        -0.04    -0.01     -0.08     -0.04   \n",
              "Age                         0.14        -0.12     0.15     -0.09      0.10   \n",
              "Education                   0.12        -0.10    -0.28     -0.10     -0.16   \n",
              "Income                      0.16        -0.20    -0.37     -0.21     -0.27   \n",
              "\n",
              "                   DiffWalk   Sex   Age  Education  Income  \n",
              "HighBP                 0.22  0.05  0.34      -0.14   -0.17  \n",
              "HighChol               0.14  0.03  0.27      -0.07   -0.09  \n",
              "CholCheck              0.04 -0.02  0.09       0.00    0.01  \n",
              "BMI                    0.20  0.04 -0.04      -0.10   -0.10  \n",
              "Smoker                 0.12  0.09  0.12      -0.16   -0.12  \n",
              "Stroke                 0.18  0.00  0.13      -0.08   -0.13  \n",
              "Diabetes               0.22  0.03  0.19      -0.13   -0.17  \n",
              "PhysActivity          -0.25  0.03 -0.09       0.20    0.20  \n",
              "Fruits                -0.05 -0.09  0.06       0.11    0.08  \n",
              "Veggies               -0.08 -0.06 -0.01       0.15    0.15  \n",
              "HvyAlcoholConsump     -0.04  0.01 -0.03       0.02    0.05  \n",
              "AnyHealthcare          0.01 -0.02  0.14       0.12    0.16  \n",
              "NoDocbcCost            0.12 -0.04 -0.12      -0.10   -0.20  \n",
              "GenHlth                0.46 -0.01  0.15      -0.28   -0.37  \n",
              "MentHlth               0.23 -0.08 -0.09      -0.10   -0.21  \n",
              "PhysHlth               0.48 -0.04  0.10      -0.16   -0.27  \n",
              "DiffWalk               1.00 -0.07  0.20      -0.19   -0.32  \n",
              "Sex                   -0.07  1.00 -0.03       0.02    0.13  \n",
              "Age                    0.20 -0.03  1.00      -0.10   -0.13  \n",
              "Education             -0.19  0.02 -0.10       1.00    0.45  \n",
              "Income                -0.32  0.13 -0.13       0.45    1.00  \n",
              "\n",
              "[21 rows x 21 columns]"
            ],
            "text/html": [
              "\n",
              "  <div id=\"df-d944e799-2ce2-463c-8996-a859ea34b08f\">\n",
              "    <div class=\"colab-df-container\">\n",
              "      <div>\n",
              "<style scoped>\n",
              "    .dataframe tbody tr th:only-of-type {\n",
              "        vertical-align: middle;\n",
              "    }\n",
              "\n",
              "    .dataframe tbody tr th {\n",
              "        vertical-align: top;\n",
              "    }\n",
              "\n",
              "    .dataframe thead th {\n",
              "        text-align: right;\n",
              "    }\n",
              "</style>\n",
              "<table border=\"1\" class=\"dataframe\">\n",
              "  <thead>\n",
              "    <tr style=\"text-align: right;\">\n",
              "      <th></th>\n",
              "      <th>HighBP</th>\n",
              "      <th>HighChol</th>\n",
              "      <th>CholCheck</th>\n",
              "      <th>BMI</th>\n",
              "      <th>Smoker</th>\n",
              "      <th>Stroke</th>\n",
              "      <th>Diabetes</th>\n",
              "      <th>PhysActivity</th>\n",
              "      <th>Fruits</th>\n",
              "      <th>Veggies</th>\n",
              "      <th>...</th>\n",
              "      <th>AnyHealthcare</th>\n",
              "      <th>NoDocbcCost</th>\n",
              "      <th>GenHlth</th>\n",
              "      <th>MentHlth</th>\n",
              "      <th>PhysHlth</th>\n",
              "      <th>DiffWalk</th>\n",
              "      <th>Sex</th>\n",
              "      <th>Age</th>\n",
              "      <th>Education</th>\n",
              "      <th>Income</th>\n",
              "    </tr>\n",
              "  </thead>\n",
              "  <tbody>\n",
              "    <tr>\n",
              "      <th>HighBP</th>\n",
              "      <td>1.00</td>\n",
              "      <td>0.30</td>\n",
              "      <td>0.10</td>\n",
              "      <td>0.21</td>\n",
              "      <td>0.10</td>\n",
              "      <td>0.13</td>\n",
              "      <td>0.27</td>\n",
              "      <td>-0.13</td>\n",
              "      <td>-0.04</td>\n",
              "      <td>-0.06</td>\n",
              "      <td>...</td>\n",
              "      <td>0.04</td>\n",
              "      <td>0.02</td>\n",
              "      <td>0.30</td>\n",
              "      <td>0.06</td>\n",
              "      <td>0.16</td>\n",
              "      <td>0.22</td>\n",
              "      <td>0.05</td>\n",
              "      <td>0.34</td>\n",
              "      <td>-0.14</td>\n",
              "      <td>-0.17</td>\n",
              "    </tr>\n",
              "    <tr>\n",
              "      <th>HighChol</th>\n",
              "      <td>0.30</td>\n",
              "      <td>1.00</td>\n",
              "      <td>0.09</td>\n",
              "      <td>0.11</td>\n",
              "      <td>0.09</td>\n",
              "      <td>0.09</td>\n",
              "      <td>0.21</td>\n",
              "      <td>-0.08</td>\n",
              "      <td>-0.04</td>\n",
              "      <td>-0.04</td>\n",
              "      <td>...</td>\n",
              "      <td>0.04</td>\n",
              "      <td>0.01</td>\n",
              "      <td>0.21</td>\n",
              "      <td>0.06</td>\n",
              "      <td>0.12</td>\n",
              "      <td>0.14</td>\n",
              "      <td>0.03</td>\n",
              "      <td>0.27</td>\n",
              "      <td>-0.07</td>\n",
              "      <td>-0.09</td>\n",
              "    </tr>\n",
              "    <tr>\n",
              "      <th>CholCheck</th>\n",
              "      <td>0.10</td>\n",
              "      <td>0.09</td>\n",
              "      <td>1.00</td>\n",
              "      <td>0.03</td>\n",
              "      <td>-0.01</td>\n",
              "      <td>0.02</td>\n",
              "      <td>0.07</td>\n",
              "      <td>0.00</td>\n",
              "      <td>0.02</td>\n",
              "      <td>0.01</td>\n",
              "      <td>...</td>\n",
              "      <td>0.12</td>\n",
              "      <td>-0.06</td>\n",
              "      <td>0.05</td>\n",
              "      <td>-0.01</td>\n",
              "      <td>0.03</td>\n",
              "      <td>0.04</td>\n",
              "      <td>-0.02</td>\n",
              "      <td>0.09</td>\n",
              "      <td>0.00</td>\n",
              "      <td>0.01</td>\n",
              "    </tr>\n",
              "    <tr>\n",
              "      <th>BMI</th>\n",
              "      <td>0.21</td>\n",
              "      <td>0.11</td>\n",
              "      <td>0.03</td>\n",
              "      <td>1.00</td>\n",
              "      <td>0.01</td>\n",
              "      <td>0.02</td>\n",
              "      <td>0.22</td>\n",
              "      <td>-0.15</td>\n",
              "      <td>-0.09</td>\n",
              "      <td>-0.06</td>\n",
              "      <td>...</td>\n",
              "      <td>-0.02</td>\n",
              "      <td>0.06</td>\n",
              "      <td>0.24</td>\n",
              "      <td>0.09</td>\n",
              "      <td>0.12</td>\n",
              "      <td>0.20</td>\n",
              "      <td>0.04</td>\n",
              "      <td>-0.04</td>\n",
              "      <td>-0.10</td>\n",
              "      <td>-0.10</td>\n",
              "    </tr>\n",
              "    <tr>\n",
              "      <th>Smoker</th>\n",
              "      <td>0.10</td>\n",
              "      <td>0.09</td>\n",
              "      <td>-0.01</td>\n",
              "      <td>0.01</td>\n",
              "      <td>1.00</td>\n",
              "      <td>0.06</td>\n",
              "      <td>0.06</td>\n",
              "      <td>-0.09</td>\n",
              "      <td>-0.08</td>\n",
              "      <td>-0.03</td>\n",
              "      <td>...</td>\n",
              "      <td>-0.02</td>\n",
              "      <td>0.05</td>\n",
              "      <td>0.16</td>\n",
              "      <td>0.09</td>\n",
              "      <td>0.12</td>\n",
              "      <td>0.12</td>\n",
              "      <td>0.09</td>\n",
              "      <td>0.12</td>\n",
              "      <td>-0.16</td>\n",
              "      <td>-0.12</td>\n",
              "    </tr>\n",
              "    <tr>\n",
              "      <th>Stroke</th>\n",
              "      <td>0.13</td>\n",
              "      <td>0.09</td>\n",
              "      <td>0.02</td>\n",
              "      <td>0.02</td>\n",
              "      <td>0.06</td>\n",
              "      <td>1.00</td>\n",
              "      <td>0.11</td>\n",
              "      <td>-0.07</td>\n",
              "      <td>-0.01</td>\n",
              "      <td>-0.04</td>\n",
              "      <td>...</td>\n",
              "      <td>0.01</td>\n",
              "      <td>0.03</td>\n",
              "      <td>0.18</td>\n",
              "      <td>0.07</td>\n",
              "      <td>0.15</td>\n",
              "      <td>0.18</td>\n",
              "      <td>0.00</td>\n",
              "      <td>0.13</td>\n",
              "      <td>-0.08</td>\n",
              "      <td>-0.13</td>\n",
              "    </tr>\n",
              "    <tr>\n",
              "      <th>Diabetes</th>\n",
              "      <td>0.27</td>\n",
              "      <td>0.21</td>\n",
              "      <td>0.07</td>\n",
              "      <td>0.22</td>\n",
              "      <td>0.06</td>\n",
              "      <td>0.11</td>\n",
              "      <td>1.00</td>\n",
              "      <td>-0.12</td>\n",
              "      <td>-0.04</td>\n",
              "      <td>-0.06</td>\n",
              "      <td>...</td>\n",
              "      <td>0.02</td>\n",
              "      <td>0.04</td>\n",
              "      <td>0.30</td>\n",
              "      <td>0.07</td>\n",
              "      <td>0.18</td>\n",
              "      <td>0.22</td>\n",
              "      <td>0.03</td>\n",
              "      <td>0.19</td>\n",
              "      <td>-0.13</td>\n",
              "      <td>-0.17</td>\n",
              "    </tr>\n",
              "    <tr>\n",
              "      <th>PhysActivity</th>\n",
              "      <td>-0.13</td>\n",
              "      <td>-0.08</td>\n",
              "      <td>0.00</td>\n",
              "      <td>-0.15</td>\n",
              "      <td>-0.09</td>\n",
              "      <td>-0.07</td>\n",
              "      <td>-0.12</td>\n",
              "      <td>1.00</td>\n",
              "      <td>0.14</td>\n",
              "      <td>0.15</td>\n",
              "      <td>...</td>\n",
              "      <td>0.04</td>\n",
              "      <td>-0.06</td>\n",
              "      <td>-0.27</td>\n",
              "      <td>-0.13</td>\n",
              "      <td>-0.22</td>\n",
              "      <td>-0.25</td>\n",
              "      <td>0.03</td>\n",
              "      <td>-0.09</td>\n",
              "      <td>0.20</td>\n",
              "      <td>0.20</td>\n",
              "    </tr>\n",
              "    <tr>\n",
              "      <th>Fruits</th>\n",
              "      <td>-0.04</td>\n",
              "      <td>-0.04</td>\n",
              "      <td>0.02</td>\n",
              "      <td>-0.09</td>\n",
              "      <td>-0.08</td>\n",
              "      <td>-0.01</td>\n",
              "      <td>-0.04</td>\n",
              "      <td>0.14</td>\n",
              "      <td>1.00</td>\n",
              "      <td>0.25</td>\n",
              "      <td>...</td>\n",
              "      <td>0.03</td>\n",
              "      <td>-0.04</td>\n",
              "      <td>-0.10</td>\n",
              "      <td>-0.07</td>\n",
              "      <td>-0.04</td>\n",
              "      <td>-0.05</td>\n",
              "      <td>-0.09</td>\n",
              "      <td>0.06</td>\n",
              "      <td>0.11</td>\n",
              "      <td>0.08</td>\n",
              "    </tr>\n",
              "    <tr>\n",
              "      <th>Veggies</th>\n",
              "      <td>-0.06</td>\n",
              "      <td>-0.04</td>\n",
              "      <td>0.01</td>\n",
              "      <td>-0.06</td>\n",
              "      <td>-0.03</td>\n",
              "      <td>-0.04</td>\n",
              "      <td>-0.06</td>\n",
              "      <td>0.15</td>\n",
              "      <td>0.25</td>\n",
              "      <td>1.00</td>\n",
              "      <td>...</td>\n",
              "      <td>0.03</td>\n",
              "      <td>-0.03</td>\n",
              "      <td>-0.12</td>\n",
              "      <td>-0.06</td>\n",
              "      <td>-0.06</td>\n",
              "      <td>-0.08</td>\n",
              "      <td>-0.06</td>\n",
              "      <td>-0.01</td>\n",
              "      <td>0.15</td>\n",
              "      <td>0.15</td>\n",
              "    </tr>\n",
              "    <tr>\n",
              "      <th>HvyAlcoholConsump</th>\n",
              "      <td>-0.00</td>\n",
              "      <td>-0.01</td>\n",
              "      <td>-0.02</td>\n",
              "      <td>-0.05</td>\n",
              "      <td>0.10</td>\n",
              "      <td>-0.02</td>\n",
              "      <td>-0.06</td>\n",
              "      <td>0.01</td>\n",
              "      <td>-0.04</td>\n",
              "      <td>0.02</td>\n",
              "      <td>...</td>\n",
              "      <td>-0.01</td>\n",
              "      <td>0.00</td>\n",
              "      <td>-0.04</td>\n",
              "      <td>0.02</td>\n",
              "      <td>-0.03</td>\n",
              "      <td>-0.04</td>\n",
              "      <td>0.01</td>\n",
              "      <td>-0.03</td>\n",
              "      <td>0.02</td>\n",
              "      <td>0.05</td>\n",
              "    </tr>\n",
              "    <tr>\n",
              "      <th>AnyHealthcare</th>\n",
              "      <td>0.04</td>\n",
              "      <td>0.04</td>\n",
              "      <td>0.12</td>\n",
              "      <td>-0.02</td>\n",
              "      <td>-0.02</td>\n",
              "      <td>0.01</td>\n",
              "      <td>0.02</td>\n",
              "      <td>0.04</td>\n",
              "      <td>0.03</td>\n",
              "      <td>0.03</td>\n",
              "      <td>...</td>\n",
              "      <td>1.00</td>\n",
              "      <td>-0.23</td>\n",
              "      <td>-0.04</td>\n",
              "      <td>-0.05</td>\n",
              "      <td>-0.01</td>\n",
              "      <td>0.01</td>\n",
              "      <td>-0.02</td>\n",
              "      <td>0.14</td>\n",
              "      <td>0.12</td>\n",
              "      <td>0.16</td>\n",
              "    </tr>\n",
              "    <tr>\n",
              "      <th>NoDocbcCost</th>\n",
              "      <td>0.02</td>\n",
              "      <td>0.01</td>\n",
              "      <td>-0.06</td>\n",
              "      <td>0.06</td>\n",
              "      <td>0.05</td>\n",
              "      <td>0.03</td>\n",
              "      <td>0.04</td>\n",
              "      <td>-0.06</td>\n",
              "      <td>-0.04</td>\n",
              "      <td>-0.03</td>\n",
              "      <td>...</td>\n",
              "      <td>-0.23</td>\n",
              "      <td>1.00</td>\n",
              "      <td>0.17</td>\n",
              "      <td>0.19</td>\n",
              "      <td>0.15</td>\n",
              "      <td>0.12</td>\n",
              "      <td>-0.04</td>\n",
              "      <td>-0.12</td>\n",
              "      <td>-0.10</td>\n",
              "      <td>-0.20</td>\n",
              "    </tr>\n",
              "    <tr>\n",
              "      <th>GenHlth</th>\n",
              "      <td>0.30</td>\n",
              "      <td>0.21</td>\n",
              "      <td>0.05</td>\n",
              "      <td>0.24</td>\n",
              "      <td>0.16</td>\n",
              "      <td>0.18</td>\n",
              "      <td>0.30</td>\n",
              "      <td>-0.27</td>\n",
              "      <td>-0.10</td>\n",
              "      <td>-0.12</td>\n",
              "      <td>...</td>\n",
              "      <td>-0.04</td>\n",
              "      <td>0.17</td>\n",
              "      <td>1.00</td>\n",
              "      <td>0.30</td>\n",
              "      <td>0.52</td>\n",
              "      <td>0.46</td>\n",
              "      <td>-0.01</td>\n",
              "      <td>0.15</td>\n",
              "      <td>-0.28</td>\n",
              "      <td>-0.37</td>\n",
              "    </tr>\n",
              "    <tr>\n",
              "      <th>MentHlth</th>\n",
              "      <td>0.06</td>\n",
              "      <td>0.06</td>\n",
              "      <td>-0.01</td>\n",
              "      <td>0.09</td>\n",
              "      <td>0.09</td>\n",
              "      <td>0.07</td>\n",
              "      <td>0.07</td>\n",
              "      <td>-0.13</td>\n",
              "      <td>-0.07</td>\n",
              "      <td>-0.06</td>\n",
              "      <td>...</td>\n",
              "      <td>-0.05</td>\n",
              "      <td>0.19</td>\n",
              "      <td>0.30</td>\n",
              "      <td>1.00</td>\n",
              "      <td>0.35</td>\n",
              "      <td>0.23</td>\n",
              "      <td>-0.08</td>\n",
              "      <td>-0.09</td>\n",
              "      <td>-0.10</td>\n",
              "      <td>-0.21</td>\n",
              "    </tr>\n",
              "    <tr>\n",
              "      <th>PhysHlth</th>\n",
              "      <td>0.16</td>\n",
              "      <td>0.12</td>\n",
              "      <td>0.03</td>\n",
              "      <td>0.12</td>\n",
              "      <td>0.12</td>\n",
              "      <td>0.15</td>\n",
              "      <td>0.18</td>\n",
              "      <td>-0.22</td>\n",
              "      <td>-0.04</td>\n",
              "      <td>-0.06</td>\n",
              "      <td>...</td>\n",
              "      <td>-0.01</td>\n",
              "      <td>0.15</td>\n",
              "      <td>0.52</td>\n",
              "      <td>0.35</td>\n",
              "      <td>1.00</td>\n",
              "      <td>0.48</td>\n",
              "      <td>-0.04</td>\n",
              "      <td>0.10</td>\n",
              "      <td>-0.16</td>\n",
              "      <td>-0.27</td>\n",
              "    </tr>\n",
              "    <tr>\n",
              "      <th>DiffWalk</th>\n",
              "      <td>0.22</td>\n",
              "      <td>0.14</td>\n",
              "      <td>0.04</td>\n",
              "      <td>0.20</td>\n",
              "      <td>0.12</td>\n",
              "      <td>0.18</td>\n",
              "      <td>0.22</td>\n",
              "      <td>-0.25</td>\n",
              "      <td>-0.05</td>\n",
              "      <td>-0.08</td>\n",
              "      <td>...</td>\n",
              "      <td>0.01</td>\n",
              "      <td>0.12</td>\n",
              "      <td>0.46</td>\n",
              "      <td>0.23</td>\n",
              "      <td>0.48</td>\n",
              "      <td>1.00</td>\n",
              "      <td>-0.07</td>\n",
              "      <td>0.20</td>\n",
              "      <td>-0.19</td>\n",
              "      <td>-0.32</td>\n",
              "    </tr>\n",
              "    <tr>\n",
              "      <th>Sex</th>\n",
              "      <td>0.05</td>\n",
              "      <td>0.03</td>\n",
              "      <td>-0.02</td>\n",
              "      <td>0.04</td>\n",
              "      <td>0.09</td>\n",
              "      <td>0.00</td>\n",
              "      <td>0.03</td>\n",
              "      <td>0.03</td>\n",
              "      <td>-0.09</td>\n",
              "      <td>-0.06</td>\n",
              "      <td>...</td>\n",
              "      <td>-0.02</td>\n",
              "      <td>-0.04</td>\n",
              "      <td>-0.01</td>\n",
              "      <td>-0.08</td>\n",
              "      <td>-0.04</td>\n",
              "      <td>-0.07</td>\n",
              "      <td>1.00</td>\n",
              "      <td>-0.03</td>\n",
              "      <td>0.02</td>\n",
              "      <td>0.13</td>\n",
              "    </tr>\n",
              "    <tr>\n",
              "      <th>Age</th>\n",
              "      <td>0.34</td>\n",
              "      <td>0.27</td>\n",
              "      <td>0.09</td>\n",
              "      <td>-0.04</td>\n",
              "      <td>0.12</td>\n",
              "      <td>0.13</td>\n",
              "      <td>0.19</td>\n",
              "      <td>-0.09</td>\n",
              "      <td>0.06</td>\n",
              "      <td>-0.01</td>\n",
              "      <td>...</td>\n",
              "      <td>0.14</td>\n",
              "      <td>-0.12</td>\n",
              "      <td>0.15</td>\n",
              "      <td>-0.09</td>\n",
              "      <td>0.10</td>\n",
              "      <td>0.20</td>\n",
              "      <td>-0.03</td>\n",
              "      <td>1.00</td>\n",
              "      <td>-0.10</td>\n",
              "      <td>-0.13</td>\n",
              "    </tr>\n",
              "    <tr>\n",
              "      <th>Education</th>\n",
              "      <td>-0.14</td>\n",
              "      <td>-0.07</td>\n",
              "      <td>0.00</td>\n",
              "      <td>-0.10</td>\n",
              "      <td>-0.16</td>\n",
              "      <td>-0.08</td>\n",
              "      <td>-0.13</td>\n",
              "      <td>0.20</td>\n",
              "      <td>0.11</td>\n",
              "      <td>0.15</td>\n",
              "      <td>...</td>\n",
              "      <td>0.12</td>\n",
              "      <td>-0.10</td>\n",
              "      <td>-0.28</td>\n",
              "      <td>-0.10</td>\n",
              "      <td>-0.16</td>\n",
              "      <td>-0.19</td>\n",
              "      <td>0.02</td>\n",
              "      <td>-0.10</td>\n",
              "      <td>1.00</td>\n",
              "      <td>0.45</td>\n",
              "    </tr>\n",
              "    <tr>\n",
              "      <th>Income</th>\n",
              "      <td>-0.17</td>\n",
              "      <td>-0.09</td>\n",
              "      <td>0.01</td>\n",
              "      <td>-0.10</td>\n",
              "      <td>-0.12</td>\n",
              "      <td>-0.13</td>\n",
              "      <td>-0.17</td>\n",
              "      <td>0.20</td>\n",
              "      <td>0.08</td>\n",
              "      <td>0.15</td>\n",
              "      <td>...</td>\n",
              "      <td>0.16</td>\n",
              "      <td>-0.20</td>\n",
              "      <td>-0.37</td>\n",
              "      <td>-0.21</td>\n",
              "      <td>-0.27</td>\n",
              "      <td>-0.32</td>\n",
              "      <td>0.13</td>\n",
              "      <td>-0.13</td>\n",
              "      <td>0.45</td>\n",
              "      <td>1.00</td>\n",
              "    </tr>\n",
              "  </tbody>\n",
              "</table>\n",
              "<p>21 rows × 21 columns</p>\n",
              "</div>\n",
              "      <button class=\"colab-df-convert\" onclick=\"convertToInteractive('df-d944e799-2ce2-463c-8996-a859ea34b08f')\"\n",
              "              title=\"Convert this dataframe to an interactive table.\"\n",
              "              style=\"display:none;\">\n",
              "        \n",
              "  <svg xmlns=\"http://www.w3.org/2000/svg\" height=\"24px\"viewBox=\"0 0 24 24\"\n",
              "       width=\"24px\">\n",
              "    <path d=\"M0 0h24v24H0V0z\" fill=\"none\"/>\n",
              "    <path d=\"M18.56 5.44l.94 2.06.94-2.06 2.06-.94-2.06-.94-.94-2.06-.94 2.06-2.06.94zm-11 1L8.5 8.5l.94-2.06 2.06-.94-2.06-.94L8.5 2.5l-.94 2.06-2.06.94zm10 10l.94 2.06.94-2.06 2.06-.94-2.06-.94-.94-2.06-.94 2.06-2.06.94z\"/><path d=\"M17.41 7.96l-1.37-1.37c-.4-.4-.92-.59-1.43-.59-.52 0-1.04.2-1.43.59L10.3 9.45l-7.72 7.72c-.78.78-.78 2.05 0 2.83L4 21.41c.39.39.9.59 1.41.59.51 0 1.02-.2 1.41-.59l7.78-7.78 2.81-2.81c.8-.78.8-2.07 0-2.86zM5.41 20L4 18.59l7.72-7.72 1.47 1.35L5.41 20z\"/>\n",
              "  </svg>\n",
              "      </button>\n",
              "      \n",
              "  <style>\n",
              "    .colab-df-container {\n",
              "      display:flex;\n",
              "      flex-wrap:wrap;\n",
              "      gap: 12px;\n",
              "    }\n",
              "\n",
              "    .colab-df-convert {\n",
              "      background-color: #E8F0FE;\n",
              "      border: none;\n",
              "      border-radius: 50%;\n",
              "      cursor: pointer;\n",
              "      display: none;\n",
              "      fill: #1967D2;\n",
              "      height: 32px;\n",
              "      padding: 0 0 0 0;\n",
              "      width: 32px;\n",
              "    }\n",
              "\n",
              "    .colab-df-convert:hover {\n",
              "      background-color: #E2EBFA;\n",
              "      box-shadow: 0px 1px 2px rgba(60, 64, 67, 0.3), 0px 1px 3px 1px rgba(60, 64, 67, 0.15);\n",
              "      fill: #174EA6;\n",
              "    }\n",
              "\n",
              "    [theme=dark] .colab-df-convert {\n",
              "      background-color: #3B4455;\n",
              "      fill: #D2E3FC;\n",
              "    }\n",
              "\n",
              "    [theme=dark] .colab-df-convert:hover {\n",
              "      background-color: #434B5C;\n",
              "      box-shadow: 0px 1px 3px 1px rgba(0, 0, 0, 0.15);\n",
              "      filter: drop-shadow(0px 1px 2px rgba(0, 0, 0, 0.3));\n",
              "      fill: #FFFFFF;\n",
              "    }\n",
              "  </style>\n",
              "\n",
              "      <script>\n",
              "        const buttonEl =\n",
              "          document.querySelector('#df-d944e799-2ce2-463c-8996-a859ea34b08f button.colab-df-convert');\n",
              "        buttonEl.style.display =\n",
              "          google.colab.kernel.accessAllowed ? 'block' : 'none';\n",
              "\n",
              "        async function convertToInteractive(key) {\n",
              "          const element = document.querySelector('#df-d944e799-2ce2-463c-8996-a859ea34b08f');\n",
              "          const dataTable =\n",
              "            await google.colab.kernel.invokeFunction('convertToInteractive',\n",
              "                                                     [key], {});\n",
              "          if (!dataTable) return;\n",
              "\n",
              "          const docLinkHtml = 'Like what you see? Visit the ' +\n",
              "            '<a target=\"_blank\" href=https://colab.research.google.com/notebooks/data_table.ipynb>data table notebook</a>'\n",
              "            + ' to learn more about interactive tables.';\n",
              "          element.innerHTML = '';\n",
              "          dataTable['output_type'] = 'display_data';\n",
              "          await google.colab.output.renderOutput(dataTable, element);\n",
              "          const docLink = document.createElement('div');\n",
              "          docLink.innerHTML = docLinkHtml;\n",
              "          element.appendChild(docLink);\n",
              "        }\n",
              "      </script>\n",
              "    </div>\n",
              "  </div>\n",
              "  "
            ]
          },
          "metadata": {},
          "execution_count": 17
        }
      ]
    },
    {
      "cell_type": "code",
      "source": [
        "%%time\n",
        "# Show Heatmap correlation\n",
        "sns.heatmap(corr_df);"
      ],
      "metadata": {
        "colab": {
          "base_uri": "https://localhost:8080/",
          "height": 414
        },
        "id": "ZNisI3q9XsKe",
        "outputId": "dca82c48-922d-42ca-9f6b-19d0ff4dc94f"
      },
      "execution_count": null,
      "outputs": [
        {
          "output_type": "stream",
          "name": "stdout",
          "text": [
            "CPU times: user 178 ms, sys: 111 ms, total: 289 ms\n",
            "Wall time: 172 ms\n"
          ]
        },
        {
          "output_type": "execute_result",
          "data": {
            "text/plain": [
              "<matplotlib.axes._subplots.AxesSubplot at 0x7f9dd1ac89d0>"
            ]
          },
          "metadata": {},
          "execution_count": 18
        },
        {
          "output_type": "display_data",
          "data": {
            "text/plain": [
              "<Figure size 432x288 with 2 Axes>"
            ],
            "image/png": "[encoded data removed]"
          },
          "metadata": {
            "needs_background": "light"
          }
        }
      ]
    },
    {
      "cell_type": "markdown",
      "source": [
        "#### 3.4.1 Check and Remove Highly Correlated Features (If Any)"
      ],
      "metadata": {
        "id": "P8psyutof7dW"
      }
    },
    {
      "cell_type": "code",
      "source": [
        "%%time\n",
        "# Remove duplicate correlation diagonal\n",
        "upper_tri = corr_df.where(np.triu(np.ones(corr_df.shape),k=1).astype(np.bool))\n",
        "upper_tri"
      ],
      "metadata": {
        "colab": {
          "base_uri": "https://localhost:8080/",
          "height": 871
        },
        "id": "yo3cD1weacVR",
        "outputId": "d47521eb-5dc0-42e4-a31a-085136578376"
      },
      "execution_count": null,
      "outputs": [
        {
          "output_type": "stream",
          "name": "stdout",
          "text": [
            "CPU times: user 3.07 ms, sys: 0 ns, total: 3.07 ms\n",
            "Wall time: 3.57 ms\n"
          ]
        },
        {
          "output_type": "stream",
          "name": "stderr",
          "text": [
            "<timed exec>:2: DeprecationWarning: `np.bool` is a deprecated alias for the builtin `bool`. To silence this warning, use `bool` by itself. Doing this will not modify any behavior and is safe. If you specifically wanted the numpy scalar type, use `np.bool_` here.\n",
            "Deprecated in NumPy 1.20; for more details and guidance: https://numpy.org/devdocs/release/1.20.0-notes.html#deprecations\n"
          ]
        },
        {
          "output_type": "execute_result",
          "data": {
            "text/plain": [
              "                   HighBP  HighChol  CholCheck       BMI    Smoker    Stroke  \\\n",
              "HighBP                NaN  0.298199   0.098508  0.213748  0.096991  0.129575   \n",
              "HighChol              NaN       NaN   0.085642  0.106722  0.091299  0.092620   \n",
              "CholCheck             NaN       NaN        NaN  0.034495 -0.009929  0.024158   \n",
              "BMI                   NaN       NaN        NaN       NaN  0.013804  0.020153   \n",
              "Smoker                NaN       NaN        NaN       NaN       NaN  0.061173   \n",
              "Stroke                NaN       NaN        NaN       NaN       NaN       NaN   \n",
              "Diabetes              NaN       NaN        NaN       NaN       NaN       NaN   \n",
              "PhysActivity          NaN       NaN        NaN       NaN       NaN       NaN   \n",
              "Fruits                NaN       NaN        NaN       NaN       NaN       NaN   \n",
              "Veggies               NaN       NaN        NaN       NaN       NaN       NaN   \n",
              "HvyAlcoholConsump     NaN       NaN        NaN       NaN       NaN       NaN   \n",
              "AnyHealthcare         NaN       NaN        NaN       NaN       NaN       NaN   \n",
              "NoDocbcCost           NaN       NaN        NaN       NaN       NaN       NaN   \n",
              "GenHlth               NaN       NaN        NaN       NaN       NaN       NaN   \n",
              "MentHlth              NaN       NaN        NaN       NaN       NaN       NaN   \n",
              "PhysHlth              NaN       NaN        NaN       NaN       NaN       NaN   \n",
              "DiffWalk              NaN       NaN        NaN       NaN       NaN       NaN   \n",
              "Sex                   NaN       NaN        NaN       NaN       NaN       NaN   \n",
              "Age                   NaN       NaN        NaN       NaN       NaN       NaN   \n",
              "Education             NaN       NaN        NaN       NaN       NaN       NaN   \n",
              "Income                NaN       NaN        NaN       NaN       NaN       NaN   \n",
              "\n",
              "                   Diabetes  PhysActivity    Fruits   Veggies  ...  \\\n",
              "HighBP             0.271596     -0.125267 -0.040555 -0.061266  ...   \n",
              "HighChol           0.209085     -0.078046 -0.040859 -0.039874  ...   \n",
              "CholCheck          0.067546      0.004190  0.023849  0.006121  ...   \n",
              "BMI                0.224379     -0.147294 -0.087518 -0.062275  ...   \n",
              "Smoker             0.062914     -0.087401 -0.077666 -0.030678  ...   \n",
              "Stroke             0.107179     -0.069151 -0.013389 -0.041124  ...   \n",
              "Diabetes                NaN     -0.121947 -0.042192 -0.058972  ...   \n",
              "PhysActivity            NaN           NaN  0.142756  0.153150  ...   \n",
              "Fruits                  NaN           NaN       NaN  0.254342  ...   \n",
              "Veggies                 NaN           NaN       NaN       NaN  ...   \n",
              "HvyAlcoholConsump       NaN           NaN       NaN       NaN  ...   \n",
              "AnyHealthcare           NaN           NaN       NaN       NaN  ...   \n",
              "NoDocbcCost             NaN           NaN       NaN       NaN  ...   \n",
              "GenHlth                 NaN           NaN       NaN       NaN  ...   \n",
              "MentHlth                NaN           NaN       NaN       NaN  ...   \n",
              "PhysHlth                NaN           NaN       NaN       NaN  ...   \n",
              "DiffWalk                NaN           NaN       NaN       NaN  ...   \n",
              "Sex                     NaN           NaN       NaN       NaN  ...   \n",
              "Age                     NaN           NaN       NaN       NaN  ...   \n",
              "Education               NaN           NaN       NaN       NaN  ...   \n",
              "Income                  NaN           NaN       NaN       NaN  ...   \n",
              "\n",
              "                   AnyHealthcare  NoDocbcCost   GenHlth  MentHlth  PhysHlth  \\\n",
              "HighBP                  0.038425     0.017358  0.300530  0.056456  0.161212   \n",
              "HighChol                0.042230     0.013310  0.208426  0.062069  0.121751   \n",
              "CholCheck               0.117626    -0.058255  0.046589 -0.008366  0.031775   \n",
              "BMI                    -0.018471     0.058206  0.239185  0.085310  0.121141   \n",
              "Smoker                 -0.023251     0.048946  0.163143  0.092196  0.116460   \n",
              "Stroke                  0.008776     0.034804  0.177942  0.070172  0.148944   \n",
              "Diabetes                0.015410     0.035436  0.302587  0.073507  0.176287   \n",
              "PhysActivity            0.035505    -0.061638 -0.266186 -0.125587 -0.219230   \n",
              "Fruits                  0.031544    -0.044243 -0.103854 -0.068217 -0.044633   \n",
              "Veggies                 0.029584    -0.032232 -0.123066 -0.058884 -0.064290   \n",
              "HvyAlcoholConsump      -0.010488     0.004684 -0.036724  0.024716 -0.026415   \n",
              "AnyHealthcare                NaN    -0.232532 -0.040817 -0.052707 -0.008276   \n",
              "NoDocbcCost                  NaN          NaN  0.166397  0.192107  0.148998   \n",
              "GenHlth                      NaN          NaN       NaN  0.301674  0.524364   \n",
              "MentHlth                     NaN          NaN       NaN       NaN  0.353619   \n",
              "PhysHlth                     NaN          NaN       NaN       NaN       NaN   \n",
              "DiffWalk                     NaN          NaN       NaN       NaN       NaN   \n",
              "Sex                          NaN          NaN       NaN       NaN       NaN   \n",
              "Age                          NaN          NaN       NaN       NaN       NaN   \n",
              "Education                    NaN          NaN       NaN       NaN       NaN   \n",
              "Income                       NaN          NaN       NaN       NaN       NaN   \n",
              "\n",
              "                   DiffWalk       Sex       Age  Education    Income  \n",
              "HighBP             0.223618  0.052207  0.344452  -0.141358 -0.171235  \n",
              "HighChol           0.144672  0.031205  0.272318  -0.070802 -0.085459  \n",
              "CholCheck          0.040585 -0.022115  0.090321   0.001510  0.014259  \n",
              "BMI                0.197078  0.042950 -0.036618  -0.103932 -0.100069  \n",
              "Smoker             0.122463  0.093662  0.120641  -0.161955 -0.123937  \n",
              "Stroke             0.176567  0.002978  0.126974  -0.076009 -0.128599  \n",
              "Diabetes           0.224239  0.031040  0.185026  -0.130517 -0.171483  \n",
              "PhysActivity      -0.253174  0.032482 -0.092511   0.199658  0.198539  \n",
              "Fruits            -0.048352 -0.091175  0.064547   0.110187  0.079929  \n",
              "Veggies           -0.080506 -0.064765 -0.009771   0.154329  0.151087  \n",
              "HvyAlcoholConsump -0.037668  0.005740 -0.034578   0.023997  0.053619  \n",
              "AnyHealthcare      0.007074 -0.019405  0.138046   0.122514  0.157999  \n",
              "NoDocbcCost        0.118447 -0.044931 -0.119777  -0.100701 -0.203182  \n",
              "GenHlth            0.456920 -0.006091  0.152450  -0.284912 -0.370014  \n",
              "MentHlth           0.233688 -0.080705 -0.092068  -0.101830 -0.209806  \n",
              "PhysHlth           0.478417 -0.043137  0.099130  -0.155093 -0.266799  \n",
              "DiffWalk                NaN -0.070299  0.204450  -0.192642 -0.320124  \n",
              "Sex                     NaN       NaN -0.027340   0.019480  0.127141  \n",
              "Age                     NaN       NaN       NaN  -0.101901 -0.127775  \n",
              "Education               NaN       NaN       NaN        NaN  0.449106  \n",
              "Income                  NaN       NaN       NaN        NaN       NaN  \n",
              "\n",
              "[21 rows x 21 columns]"
            ],
            "text/html": [
              "\n",
              "  <div id=\"df-beb7eaaa-7e02-49e7-b363-412e7ec6c85c\">\n",
              "    <div class=\"colab-df-container\">\n",
              "      <div>\n",
              "<style scoped>\n",
              "    .dataframe tbody tr th:only-of-type {\n",
              "        vertical-align: middle;\n",
              "    }\n",
              "\n",
              "    .dataframe tbody tr th {\n",
              "        vertical-align: top;\n",
              "    }\n",
              "\n",
              "    .dataframe thead th {\n",
              "        text-align: right;\n",
              "    }\n",
              "</style>\n",
              "<table border=\"1\" class=\"dataframe\">\n",
              "  <thead>\n",
              "    <tr style=\"text-align: right;\">\n",
              "      <th></th>\n",
              "      <th>HighBP</th>\n",
              "      <th>HighChol</th>\n",
              "      <th>CholCheck</th>\n",
              "      <th>BMI</th>\n",
              "      <th>Smoker</th>\n",
              "      <th>Stroke</th>\n",
              "      <th>Diabetes</th>\n",
              "      <th>PhysActivity</th>\n",
              "      <th>Fruits</th>\n",
              "      <th>Veggies</th>\n",
              "      <th>...</th>\n",
              "      <th>AnyHealthcare</th>\n",
              "      <th>NoDocbcCost</th>\n",
              "      <th>GenHlth</th>\n",
              "      <th>MentHlth</th>\n",
              "      <th>PhysHlth</th>\n",
              "      <th>DiffWalk</th>\n",
              "      <th>Sex</th>\n",
              "      <th>Age</th>\n",
              "      <th>Education</th>\n",
              "      <th>Income</th>\n",
              "    </tr>\n",
              "  </thead>\n",
              "  <tbody>\n",
              "    <tr>\n",
              "      <th>HighBP</th>\n",
              "      <td>NaN</td>\n",
              "      <td>0.298199</td>\n",
              "      <td>0.098508</td>\n",
              "      <td>0.213748</td>\n",
              "      <td>0.096991</td>\n",
              "      <td>0.129575</td>\n",
              "      <td>0.271596</td>\n",
              "      <td>-0.125267</td>\n",
              "      <td>-0.040555</td>\n",
              "      <td>-0.061266</td>\n",
              "      <td>...</td>\n",
              "      <td>0.038425</td>\n",
              "      <td>0.017358</td>\n",
              "      <td>0.300530</td>\n",
              "      <td>0.056456</td>\n",
              "      <td>0.161212</td>\n",
              "      <td>0.223618</td>\n",
              "      <td>0.052207</td>\n",
              "      <td>0.344452</td>\n",
              "      <td>-0.141358</td>\n",
              "      <td>-0.171235</td>\n",
              "    </tr>\n",
              "    <tr>\n",
              "      <th>HighChol</th>\n",
              "      <td>NaN</td>\n",
              "      <td>NaN</td>\n",
              "      <td>0.085642</td>\n",
              "      <td>0.106722</td>\n",
              "      <td>0.091299</td>\n",
              "      <td>0.092620</td>\n",
              "      <td>0.209085</td>\n",
              "      <td>-0.078046</td>\n",
              "      <td>-0.040859</td>\n",
              "      <td>-0.039874</td>\n",
              "      <td>...</td>\n",
              "      <td>0.042230</td>\n",
              "      <td>0.013310</td>\n",
              "      <td>0.208426</td>\n",
              "      <td>0.062069</td>\n",
              "      <td>0.121751</td>\n",
              "      <td>0.144672</td>\n",
              "      <td>0.031205</td>\n",
              "      <td>0.272318</td>\n",
              "      <td>-0.070802</td>\n",
              "      <td>-0.085459</td>\n",
              "    </tr>\n",
              "    <tr>\n",
              "      <th>CholCheck</th>\n",
              "      <td>NaN</td>\n",
              "      <td>NaN</td>\n",
              "      <td>NaN</td>\n",
              "      <td>0.034495</td>\n",
              "      <td>-0.009929</td>\n",
              "      <td>0.024158</td>\n",
              "      <td>0.067546</td>\n",
              "      <td>0.004190</td>\n",
              "      <td>0.023849</td>\n",
              "      <td>0.006121</td>\n",
              "      <td>...</td>\n",
              "      <td>0.117626</td>\n",
              "      <td>-0.058255</td>\n",
              "      <td>0.046589</td>\n",
              "      <td>-0.008366</td>\n",
              "      <td>0.031775</td>\n",
              "      <td>0.040585</td>\n",
              "      <td>-0.022115</td>\n",
              "      <td>0.090321</td>\n",
              "      <td>0.001510</td>\n",
              "      <td>0.014259</td>\n",
              "    </tr>\n",
              "    <tr>\n",
              "      <th>BMI</th>\n",
              "      <td>NaN</td>\n",
              "      <td>NaN</td>\n",
              "      <td>NaN</td>\n",
              "      <td>NaN</td>\n",
              "      <td>0.013804</td>\n",
              "      <td>0.020153</td>\n",
              "      <td>0.224379</td>\n",
              "      <td>-0.147294</td>\n",
              "      <td>-0.087518</td>\n",
              "      <td>-0.062275</td>\n",
              "      <td>...</td>\n",
              "      <td>-0.018471</td>\n",
              "      <td>0.058206</td>\n",
              "      <td>0.239185</td>\n",
              "      <td>0.085310</td>\n",
              "      <td>0.121141</td>\n",
              "      <td>0.197078</td>\n",
              "      <td>0.042950</td>\n",
              "      <td>-0.036618</td>\n",
              "      <td>-0.103932</td>\n",
              "      <td>-0.100069</td>\n",
              "    </tr>\n",
              "    <tr>\n",
              "      <th>Smoker</th>\n",
              "      <td>NaN</td>\n",
              "      <td>NaN</td>\n",
              "      <td>NaN</td>\n",
              "      <td>NaN</td>\n",
              "      <td>NaN</td>\n",
              "      <td>0.061173</td>\n",
              "      <td>0.062914</td>\n",
              "      <td>-0.087401</td>\n",
              "      <td>-0.077666</td>\n",
              "      <td>-0.030678</td>\n",
              "      <td>...</td>\n",
              "      <td>-0.023251</td>\n",
              "      <td>0.048946</td>\n",
              "      <td>0.163143</td>\n",
              "      <td>0.092196</td>\n",
              "      <td>0.116460</td>\n",
              "      <td>0.122463</td>\n",
              "      <td>0.093662</td>\n",
              "      <td>0.120641</td>\n",
              "      <td>-0.161955</td>\n",
              "      <td>-0.123937</td>\n",
              "    </tr>\n",
              "    <tr>\n",
              "      <th>Stroke</th>\n",
              "      <td>NaN</td>\n",
              "      <td>NaN</td>\n",
              "      <td>NaN</td>\n",
              "      <td>NaN</td>\n",
              "      <td>NaN</td>\n",
              "      <td>NaN</td>\n",
              "      <td>0.107179</td>\n",
              "      <td>-0.069151</td>\n",
              "      <td>-0.013389</td>\n",
              "      <td>-0.041124</td>\n",
              "      <td>...</td>\n",
              "      <td>0.008776</td>\n",
              "      <td>0.034804</td>\n",
              "      <td>0.177942</td>\n",
              "      <td>0.070172</td>\n",
              "      <td>0.148944</td>\n",
              "      <td>0.176567</td>\n",
              "      <td>0.002978</td>\n",
              "      <td>0.126974</td>\n",
              "      <td>-0.076009</td>\n",
              "      <td>-0.128599</td>\n",
              "    </tr>\n",
              "    <tr>\n",
              "      <th>Diabetes</th>\n",
              "      <td>NaN</td>\n",
              "      <td>NaN</td>\n",
              "      <td>NaN</td>\n",
              "      <td>NaN</td>\n",
              "      <td>NaN</td>\n",
              "      <td>NaN</td>\n",
              "      <td>NaN</td>\n",
              "      <td>-0.121947</td>\n",
              "      <td>-0.042192</td>\n",
              "      <td>-0.058972</td>\n",
              "      <td>...</td>\n",
              "      <td>0.015410</td>\n",
              "      <td>0.035436</td>\n",
              "      <td>0.302587</td>\n",
              "      <td>0.073507</td>\n",
              "      <td>0.176287</td>\n",
              "      <td>0.224239</td>\n",
              "      <td>0.031040</td>\n",
              "      <td>0.185026</td>\n",
              "      <td>-0.130517</td>\n",
              "      <td>-0.171483</td>\n",
              "    </tr>\n",
              "    <tr>\n",
              "      <th>PhysActivity</th>\n",
              "      <td>NaN</td>\n",
              "      <td>NaN</td>\n",
              "      <td>NaN</td>\n",
              "      <td>NaN</td>\n",
              "      <td>NaN</td>\n",
              "      <td>NaN</td>\n",
              "      <td>NaN</td>\n",
              "      <td>NaN</td>\n",
              "      <td>0.142756</td>\n",
              "      <td>0.153150</td>\n",
              "      <td>...</td>\n",
              "      <td>0.035505</td>\n",
              "      <td>-0.061638</td>\n",
              "      <td>-0.266186</td>\n",
              "      <td>-0.125587</td>\n",
              "      <td>-0.219230</td>\n",
              "      <td>-0.253174</td>\n",
              "      <td>0.032482</td>\n",
              "      <td>-0.092511</td>\n",
              "      <td>0.199658</td>\n",
              "      <td>0.198539</td>\n",
              "    </tr>\n",
              "    <tr>\n",
              "      <th>Fruits</th>\n",
              "      <td>NaN</td>\n",
              "      <td>NaN</td>\n",
              "      <td>NaN</td>\n",
              "      <td>NaN</td>\n",
              "      <td>NaN</td>\n",
              "      <td>NaN</td>\n",
              "      <td>NaN</td>\n",
              "      <td>NaN</td>\n",
              "      <td>NaN</td>\n",
              "      <td>0.254342</td>\n",
              "      <td>...</td>\n",
              "      <td>0.031544</td>\n",
              "      <td>-0.044243</td>\n",
              "      <td>-0.103854</td>\n",
              "      <td>-0.068217</td>\n",
              "      <td>-0.044633</td>\n",
              "      <td>-0.048352</td>\n",
              "      <td>-0.091175</td>\n",
              "      <td>0.064547</td>\n",
              "      <td>0.110187</td>\n",
              "      <td>0.079929</td>\n",
              "    </tr>\n",
              "    <tr>\n",
              "      <th>Veggies</th>\n",
              "      <td>NaN</td>\n",
              "      <td>NaN</td>\n",
              "      <td>NaN</td>\n",
              "      <td>NaN</td>\n",
              "      <td>NaN</td>\n",
              "      <td>NaN</td>\n",
              "      <td>NaN</td>\n",
              "      <td>NaN</td>\n",
              "      <td>NaN</td>\n",
              "      <td>NaN</td>\n",
              "      <td>...</td>\n",
              "      <td>0.029584</td>\n",
              "      <td>-0.032232</td>\n",
              "      <td>-0.123066</td>\n",
              "      <td>-0.058884</td>\n",
              "      <td>-0.064290</td>\n",
              "      <td>-0.080506</td>\n",
              "      <td>-0.064765</td>\n",
              "      <td>-0.009771</td>\n",
              "      <td>0.154329</td>\n",
              "      <td>0.151087</td>\n",
              "    </tr>\n",
              "    <tr>\n",
              "      <th>HvyAlcoholConsump</th>\n",
              "      <td>NaN</td>\n",
              "      <td>NaN</td>\n",
              "      <td>NaN</td>\n",
              "      <td>NaN</td>\n",
              "      <td>NaN</td>\n",
              "      <td>NaN</td>\n",
              "      <td>NaN</td>\n",
              "      <td>NaN</td>\n",
              "      <td>NaN</td>\n",
              "      <td>NaN</td>\n",
              "      <td>...</td>\n",
              "      <td>-0.010488</td>\n",
              "      <td>0.004684</td>\n",
              "      <td>-0.036724</td>\n",
              "      <td>0.024716</td>\n",
              "      <td>-0.026415</td>\n",
              "      <td>-0.037668</td>\n",
              "      <td>0.005740</td>\n",
              "      <td>-0.034578</td>\n",
              "      <td>0.023997</td>\n",
              "      <td>0.053619</td>\n",
              "    </tr>\n",
              "    <tr>\n",
              "      <th>AnyHealthcare</th>\n",
              "      <td>NaN</td>\n",
              "      <td>NaN</td>\n",
              "      <td>NaN</td>\n",
              "      <td>NaN</td>\n",
              "      <td>NaN</td>\n",
              "      <td>NaN</td>\n",
              "      <td>NaN</td>\n",
              "      <td>NaN</td>\n",
              "      <td>NaN</td>\n",
              "      <td>NaN</td>\n",
              "      <td>...</td>\n",
              "      <td>NaN</td>\n",
              "      <td>-0.232532</td>\n",
              "      <td>-0.040817</td>\n",
              "      <td>-0.052707</td>\n",
              "      <td>-0.008276</td>\n",
              "      <td>0.007074</td>\n",
              "      <td>-0.019405</td>\n",
              "      <td>0.138046</td>\n",
              "      <td>0.122514</td>\n",
              "      <td>0.157999</td>\n",
              "    </tr>\n",
              "    <tr>\n",
              "      <th>NoDocbcCost</th>\n",
              "      <td>NaN</td>\n",
              "      <td>NaN</td>\n",
              "      <td>NaN</td>\n",
              "      <td>NaN</td>\n",
              "      <td>NaN</td>\n",
              "      <td>NaN</td>\n",
              "      <td>NaN</td>\n",
              "      <td>NaN</td>\n",
              "      <td>NaN</td>\n",
              "      <td>NaN</td>\n",
              "      <td>...</td>\n",
              "      <td>NaN</td>\n",
              "      <td>NaN</td>\n",
              "      <td>0.166397</td>\n",
              "      <td>0.192107</td>\n",
              "      <td>0.148998</td>\n",
              "      <td>0.118447</td>\n",
              "      <td>-0.044931</td>\n",
              "      <td>-0.119777</td>\n",
              "      <td>-0.100701</td>\n",
              "      <td>-0.203182</td>\n",
              "    </tr>\n",
              "    <tr>\n",
              "      <th>GenHlth</th>\n",
              "      <td>NaN</td>\n",
              "      <td>NaN</td>\n",
              "      <td>NaN</td>\n",
              "      <td>NaN</td>\n",
              "      <td>NaN</td>\n",
              "      <td>NaN</td>\n",
              "      <td>NaN</td>\n",
              "      <td>NaN</td>\n",
              "      <td>NaN</td>\n",
              "      <td>NaN</td>\n",
              "      <td>...</td>\n",
              "      <td>NaN</td>\n",
              "      <td>NaN</td>\n",
              "      <td>NaN</td>\n",
              "      <td>0.301674</td>\n",
              "      <td>0.524364</td>\n",
              "      <td>0.456920</td>\n",
              "      <td>-0.006091</td>\n",
              "      <td>0.152450</td>\n",
              "      <td>-0.284912</td>\n",
              "      <td>-0.370014</td>\n",
              "    </tr>\n",
              "    <tr>\n",
              "      <th>MentHlth</th>\n",
              "      <td>NaN</td>\n",
              "      <td>NaN</td>\n",
              "      <td>NaN</td>\n",
              "      <td>NaN</td>\n",
              "      <td>NaN</td>\n",
              "      <td>NaN</td>\n",
              "      <td>NaN</td>\n",
              "      <td>NaN</td>\n",
              "      <td>NaN</td>\n",
              "      <td>NaN</td>\n",
              "      <td>...</td>\n",
              "      <td>NaN</td>\n",
              "      <td>NaN</td>\n",
              "      <td>NaN</td>\n",
              "      <td>NaN</td>\n",
              "      <td>0.353619</td>\n",
              "      <td>0.233688</td>\n",
              "      <td>-0.080705</td>\n",
              "      <td>-0.092068</td>\n",
              "      <td>-0.101830</td>\n",
              "      <td>-0.209806</td>\n",
              "    </tr>\n",
              "    <tr>\n",
              "      <th>PhysHlth</th>\n",
              "      <td>NaN</td>\n",
              "      <td>NaN</td>\n",
              "      <td>NaN</td>\n",
              "      <td>NaN</td>\n",
              "      <td>NaN</td>\n",
              "      <td>NaN</td>\n",
              "      <td>NaN</td>\n",
              "      <td>NaN</td>\n",
              "      <td>NaN</td>\n",
              "      <td>NaN</td>\n",
              "      <td>...</td>\n",
              "      <td>NaN</td>\n",
              "      <td>NaN</td>\n",
              "      <td>NaN</td>\n",
              "      <td>NaN</td>\n",
              "      <td>NaN</td>\n",
              "      <td>0.478417</td>\n",
              "      <td>-0.043137</td>\n",
              "      <td>0.099130</td>\n",
              "      <td>-0.155093</td>\n",
              "      <td>-0.266799</td>\n",
              "    </tr>\n",
              "    <tr>\n",
              "      <th>DiffWalk</th>\n",
              "      <td>NaN</td>\n",
              "      <td>NaN</td>\n",
              "      <td>NaN</td>\n",
              "      <td>NaN</td>\n",
              "      <td>NaN</td>\n",
              "      <td>NaN</td>\n",
              "      <td>NaN</td>\n",
              "      <td>NaN</td>\n",
              "      <td>NaN</td>\n",
              "      <td>NaN</td>\n",
              "      <td>...</td>\n",
              "      <td>NaN</td>\n",
              "      <td>NaN</td>\n",
              "      <td>NaN</td>\n",
              "      <td>NaN</td>\n",
              "      <td>NaN</td>\n",
              "      <td>NaN</td>\n",
              "      <td>-0.070299</td>\n",
              "      <td>0.204450</td>\n",
              "      <td>-0.192642</td>\n",
              "      <td>-0.320124</td>\n",
              "    </tr>\n",
              "    <tr>\n",
              "      <th>Sex</th>\n",
              "      <td>NaN</td>\n",
              "      <td>NaN</td>\n",
              "      <td>NaN</td>\n",
              "      <td>NaN</td>\n",
              "      <td>NaN</td>\n",
              "      <td>NaN</td>\n",
              "      <td>NaN</td>\n",
              "      <td>NaN</td>\n",
              "      <td>NaN</td>\n",
              "      <td>NaN</td>\n",
              "      <td>...</td>\n",
              "      <td>NaN</td>\n",
              "      <td>NaN</td>\n",
              "      <td>NaN</td>\n",
              "      <td>NaN</td>\n",
              "      <td>NaN</td>\n",
              "      <td>NaN</td>\n",
              "      <td>NaN</td>\n",
              "      <td>-0.027340</td>\n",
              "      <td>0.019480</td>\n",
              "      <td>0.127141</td>\n",
              "    </tr>\n",
              "    <tr>\n",
              "      <th>Age</th>\n",
              "      <td>NaN</td>\n",
              "      <td>NaN</td>\n",
              "      <td>NaN</td>\n",
              "      <td>NaN</td>\n",
              "      <td>NaN</td>\n",
              "      <td>NaN</td>\n",
              "      <td>NaN</td>\n",
              "      <td>NaN</td>\n",
              "      <td>NaN</td>\n",
              "      <td>NaN</td>\n",
              "      <td>...</td>\n",
              "      <td>NaN</td>\n",
              "      <td>NaN</td>\n",
              "      <td>NaN</td>\n",
              "      <td>NaN</td>\n",
              "      <td>NaN</td>\n",
              "      <td>NaN</td>\n",
              "      <td>NaN</td>\n",
              "      <td>NaN</td>\n",
              "      <td>-0.101901</td>\n",
              "      <td>-0.127775</td>\n",
              "    </tr>\n",
              "    <tr>\n",
              "      <th>Education</th>\n",
              "      <td>NaN</td>\n",
              "      <td>NaN</td>\n",
              "      <td>NaN</td>\n",
              "      <td>NaN</td>\n",
              "      <td>NaN</td>\n",
              "      <td>NaN</td>\n",
              "      <td>NaN</td>\n",
              "      <td>NaN</td>\n",
              "      <td>NaN</td>\n",
              "      <td>NaN</td>\n",
              "      <td>...</td>\n",
              "      <td>NaN</td>\n",
              "      <td>NaN</td>\n",
              "      <td>NaN</td>\n",
              "      <td>NaN</td>\n",
              "      <td>NaN</td>\n",
              "      <td>NaN</td>\n",
              "      <td>NaN</td>\n",
              "      <td>NaN</td>\n",
              "      <td>NaN</td>\n",
              "      <td>0.449106</td>\n",
              "    </tr>\n",
              "    <tr>\n",
              "      <th>Income</th>\n",
              "      <td>NaN</td>\n",
              "      <td>NaN</td>\n",
              "      <td>NaN</td>\n",
              "      <td>NaN</td>\n",
              "      <td>NaN</td>\n",
              "      <td>NaN</td>\n",
              "      <td>NaN</td>\n",
              "      <td>NaN</td>\n",
              "      <td>NaN</td>\n",
              "      <td>NaN</td>\n",
              "      <td>...</td>\n",
              "      <td>NaN</td>\n",
              "      <td>NaN</td>\n",
              "      <td>NaN</td>\n",
              "      <td>NaN</td>\n",
              "      <td>NaN</td>\n",
              "      <td>NaN</td>\n",
              "      <td>NaN</td>\n",
              "      <td>NaN</td>\n",
              "      <td>NaN</td>\n",
              "      <td>NaN</td>\n",
              "    </tr>\n",
              "  </tbody>\n",
              "</table>\n",
              "<p>21 rows × 21 columns</p>\n",
              "</div>\n",
              "      <button class=\"colab-df-convert\" onclick=\"convertToInteractive('df-beb7eaaa-7e02-49e7-b363-412e7ec6c85c')\"\n",
              "              title=\"Convert this dataframe to an interactive table.\"\n",
              "              style=\"display:none;\">\n",
              "        \n",
              "  <svg xmlns=\"http://www.w3.org/2000/svg\" height=\"24px\"viewBox=\"0 0 24 24\"\n",
              "       width=\"24px\">\n",
              "    <path d=\"M0 0h24v24H0V0z\" fill=\"none\"/>\n",
              "    <path d=\"M18.56 5.44l.94 2.06.94-2.06 2.06-.94-2.06-.94-.94-2.06-.94 2.06-2.06.94zm-11 1L8.5 8.5l.94-2.06 2.06-.94-2.06-.94L8.5 2.5l-.94 2.06-2.06.94zm10 10l.94 2.06.94-2.06 2.06-.94-2.06-.94-.94-2.06-.94 2.06-2.06.94z\"/><path d=\"M17.41 7.96l-1.37-1.37c-.4-.4-.92-.59-1.43-.59-.52 0-1.04.2-1.43.59L10.3 9.45l-7.72 7.72c-.78.78-.78 2.05 0 2.83L4 21.41c.39.39.9.59 1.41.59.51 0 1.02-.2 1.41-.59l7.78-7.78 2.81-2.81c.8-.78.8-2.07 0-2.86zM5.41 20L4 18.59l7.72-7.72 1.47 1.35L5.41 20z\"/>\n",
              "  </svg>\n",
              "      </button>\n",
              "      \n",
              "  <style>\n",
              "    .colab-df-container {\n",
              "      display:flex;\n",
              "      flex-wrap:wrap;\n",
              "      gap: 12px;\n",
              "    }\n",
              "\n",
              "    .colab-df-convert {\n",
              "      background-color: #E8F0FE;\n",
              "      border: none;\n",
              "      border-radius: 50%;\n",
              "      cursor: pointer;\n",
              "      display: none;\n",
              "      fill: #1967D2;\n",
              "      height: 32px;\n",
              "      padding: 0 0 0 0;\n",
              "      width: 32px;\n",
              "    }\n",
              "\n",
              "    .colab-df-convert:hover {\n",
              "      background-color: #E2EBFA;\n",
              "      box-shadow: 0px 1px 2px rgba(60, 64, 67, 0.3), 0px 1px 3px 1px rgba(60, 64, 67, 0.15);\n",
              "      fill: #174EA6;\n",
              "    }\n",
              "\n",
              "    [theme=dark] .colab-df-convert {\n",
              "      background-color: #3B4455;\n",
              "      fill: #D2E3FC;\n",
              "    }\n",
              "\n",
              "    [theme=dark] .colab-df-convert:hover {\n",
              "      background-color: #434B5C;\n",
              "      box-shadow: 0px 1px 3px 1px rgba(0, 0, 0, 0.15);\n",
              "      filter: drop-shadow(0px 1px 2px rgba(0, 0, 0, 0.3));\n",
              "      fill: #FFFFFF;\n",
              "    }\n",
              "  </style>\n",
              "\n",
              "      <script>\n",
              "        const buttonEl =\n",
              "          document.querySelector('#df-beb7eaaa-7e02-49e7-b363-412e7ec6c85c button.colab-df-convert');\n",
              "        buttonEl.style.display =\n",
              "          google.colab.kernel.accessAllowed ? 'block' : 'none';\n",
              "\n",
              "        async function convertToInteractive(key) {\n",
              "          const element = document.querySelector('#df-beb7eaaa-7e02-49e7-b363-412e7ec6c85c');\n",
              "          const dataTable =\n",
              "            await google.colab.kernel.invokeFunction('convertToInteractive',\n",
              "                                                     [key], {});\n",
              "          if (!dataTable) return;\n",
              "\n",
              "          const docLinkHtml = 'Like what you see? Visit the ' +\n",
              "            '<a target=\"_blank\" href=https://colab.research.google.com/notebooks/data_table.ipynb>data table notebook</a>'\n",
              "            + ' to learn more about interactive tables.';\n",
              "          element.innerHTML = '';\n",
              "          dataTable['output_type'] = 'display_data';\n",
              "          await google.colab.output.renderOutput(dataTable, element);\n",
              "          const docLink = document.createElement('div');\n",
              "          docLink.innerHTML = docLinkHtml;\n",
              "          element.appendChild(docLink);\n",
              "        }\n",
              "      </script>\n",
              "    </div>\n",
              "  </div>\n",
              "  "
            ]
          },
          "metadata": {},
          "execution_count": 19
        }
      ]
    },
    {
      "cell_type": "code",
      "source": [
        "%%time\n",
        "# Drop highly correlated columns (if any)\n",
        "to_drop = [column for column in upper_tri.columns if any(upper_tri[column] > 0.8)]\n",
        "to_drop"
      ],
      "metadata": {
        "colab": {
          "base_uri": "https://localhost:8080/"
        },
        "id": "zftyv86td1JG",
        "outputId": "619bcf4b-cf28-4067-9937-e842686b0b86"
      },
      "execution_count": null,
      "outputs": [
        {
          "output_type": "stream",
          "name": "stdout",
          "text": [
            "CPU times: user 5.66 ms, sys: 899 µs, total: 6.56 ms\n",
            "Wall time: 7.79 ms\n"
          ]
        },
        {
          "output_type": "execute_result",
          "data": {
            "text/plain": [
              "[]"
            ]
          },
          "metadata": {},
          "execution_count": 20
        }
      ]
    },
    {
      "cell_type": "code",
      "source": [
        "df.printSchema()"
      ],
      "metadata": {
        "colab": {
          "base_uri": "https://localhost:8080/"
        },
        "id": "Mtkyrwytec7o",
        "outputId": "db6732f4-fc24-4fee-c5bc-69eac34e3e40"
      },
      "execution_count": null,
      "outputs": [
        {
          "output_type": "stream",
          "name": "stdout",
          "text": [
            "root\n",
            " |-- HeartDisease: double (nullable = true)\n",
            " |-- HighBP: double (nullable = true)\n",
            " |-- HighChol: double (nullable = true)\n",
            " |-- CholCheck: double (nullable = true)\n",
            " |-- BMI: integer (nullable = true)\n",
            " |-- Smoker: double (nullable = true)\n",
            " |-- Stroke: double (nullable = true)\n",
            " |-- Diabetes: double (nullable = true)\n",
            " |-- PhysActivity: double (nullable = true)\n",
            " |-- Fruits: double (nullable = true)\n",
            " |-- Veggies: double (nullable = true)\n",
            " |-- HvyAlcoholConsump: double (nullable = true)\n",
            " |-- AnyHealthcare: double (nullable = true)\n",
            " |-- NoDocbcCost: double (nullable = true)\n",
            " |-- GenHlth: double (nullable = true)\n",
            " |-- MentHlth: integer (nullable = true)\n",
            " |-- PhysHlth: integer (nullable = true)\n",
            " |-- DiffWalk: double (nullable = true)\n",
            " |-- Sex: double (nullable = true)\n",
            " |-- Age: double (nullable = true)\n",
            " |-- Education: double (nullable = true)\n",
            " |-- Income: double (nullable = true)\n",
            "\n"
          ]
        }
      ]
    },
    {
      "cell_type": "markdown",
      "source": [
        "## 4.Data Modelling"
      ],
      "metadata": {
        "id": "ejh08mz-lSF5"
      }
    },
    {
      "cell_type": "markdown",
      "source": [
        "### 4.1 Split Train & Test Sets"
      ],
      "metadata": {
        "id": "_GUw7PU7hU3F"
      }
    },
    {
      "cell_type": "code",
      "source": [
        "%%time\n",
        "# Split (70:30) the data into train and test set\n",
        "# Elaboration: Data splitting is typically done to avoid overfitting.\n",
        "\n",
        "train, test = df.randomSplit([0.7, 0.3], seed=0)\n",
        "\n",
        "train, test"
      ],
      "metadata": {
        "id": "BMvOYHqo-Gzv",
        "colab": {
          "base_uri": "https://localhost:8080/"
        },
        "outputId": "1537c056-ac2d-42f8-ea77-9d065ea8fdd0"
      },
      "execution_count": null,
      "outputs": [
        {
          "output_type": "stream",
          "name": "stdout",
          "text": [
            "CPU times: user 2.18 ms, sys: 0 ns, total: 2.18 ms\n",
            "Wall time: 21.3 ms\n"
          ]
        },
        {
          "output_type": "execute_result",
          "data": {
            "text/plain": [
              "(DataFrame[HeartDisease: double, HighBP: double, HighChol: double, CholCheck: double, BMI: int, Smoker: double, Stroke: double, Diabetes: double, PhysActivity: double, Fruits: double, Veggies: double, HvyAlcoholConsump: double, AnyHealthcare: double, NoDocbcCost: double, GenHlth: double, MentHlth: int, PhysHlth: int, DiffWalk: double, Sex: double, Age: double, Education: double, Income: double],\n",
              " DataFrame[HeartDisease: double, HighBP: double, HighChol: double, CholCheck: double, BMI: int, Smoker: double, Stroke: double, Diabetes: double, PhysActivity: double, Fruits: double, Veggies: double, HvyAlcoholConsump: double, AnyHealthcare: double, NoDocbcCost: double, GenHlth: double, MentHlth: int, PhysHlth: int, DiffWalk: double, Sex: double, Age: double, Education: double, Income: double])"
            ]
          },
          "metadata": {},
          "execution_count": 22
        }
      ]
    },
    {
      "cell_type": "code",
      "source": [
        "%%time\n",
        "print(f\"Training Data Size: {train.count()}\")\n",
        "print(f\"Test Data Size: {test.count()}\")"
      ],
      "metadata": {
        "id": "-UXbpORipE4X",
        "colab": {
          "base_uri": "https://localhost:8080/"
        },
        "outputId": "b2bf3907-a426-4356-d7a8-2225044a64b8"
      },
      "execution_count": null,
      "outputs": [
        {
          "output_type": "stream",
          "name": "stdout",
          "text": [
            "Training Data Size: 177214\n",
            "Test Data Size: 76466\n",
            "CPU times: user 46.3 ms, sys: 4.17 ms, total: 50.5 ms\n",
            "Wall time: 6.28 s\n"
          ]
        }
      ]
    },
    {
      "cell_type": "markdown",
      "source": [
        "### 4.2 Solve Class Imbalance"
      ],
      "metadata": {
        "id": "UUxFtRlcgG2n"
      }
    },
    {
      "cell_type": "code",
      "source": [
        "%%time\n",
        "'''\n",
        "# Balance the data (Solve class imbalance)\n",
        "# Elaboration: Solve class imbalance by adding a new column weights and fill it\n",
        "               with ratios of {0: 0.09, 1: 0.91} - is the ratio of class 0\n",
        "               having 9% while class 1 for 91% of the total target class count.\n",
        "'''\n",
        "\n",
        "from pyspark.sql.functions import when\n",
        "\n",
        "ratio = 0.91\n",
        "def weight_balance(labels):\n",
        "    return when(labels == 1, ratio).otherwise(1*(1-ratio))\n",
        "\n",
        "train = train.withColumn('weights', weight_balance(F.col('HeartDisease')))\n",
        "test = test.withColumn('weights', weight_balance(F.col('HeartDisease')))\n",
        "\n",
        "train.show()"
      ],
      "metadata": {
        "id": "0asAZRXB-G9z",
        "colab": {
          "base_uri": "https://localhost:8080/"
        },
        "outputId": "b1c8b6bc-340e-4a68-90ac-93407216f1e8"
      },
      "execution_count": null,
      "outputs": [
        {
          "output_type": "stream",
          "name": "stdout",
          "text": [
            "+------------+------+--------+---------+---+------+------+--------+------------+------+-------+-----------------+-------------+-----------+-------+--------+--------+--------+---+----+---------+------+-------------------+\n",
            "|HeartDisease|HighBP|HighChol|CholCheck|BMI|Smoker|Stroke|Diabetes|PhysActivity|Fruits|Veggies|HvyAlcoholConsump|AnyHealthcare|NoDocbcCost|GenHlth|MentHlth|PhysHlth|DiffWalk|Sex| Age|Education|Income|            weights|\n",
            "+------------+------+--------+---------+---+------+------+--------+------------+------+-------+-----------------+-------------+-----------+-------+--------+--------+--------+---+----+---------+------+-------------------+\n",
            "|         0.0|   0.0|     0.0|      0.0| 15|   0.0|   0.0|     0.0|         0.0|   1.0|    0.0|              0.0|          0.0|        0.0|    1.0|       0|       0|     0.0|0.0| 1.0|      5.0|   7.0|0.08999999999999997|\n",
            "|         0.0|   0.0|     0.0|      0.0| 15|   1.0|   0.0|     0.0|         0.0|   0.0|    0.0|              0.0|          1.0|        0.0|    5.0|      20|      28|     1.0|0.0|10.0|      6.0|   4.0|0.08999999999999997|\n",
            "|         0.0|   0.0|     0.0|      0.0| 16|   0.0|   0.0|     0.0|         0.0|   0.0|    0.0|              0.0|          1.0|        0.0|    2.0|       0|       0|     0.0|0.0|11.0|      5.0|   5.0|0.08999999999999997|\n",
            "|         0.0|   0.0|     0.0|      0.0| 16|   0.0|   0.0|     0.0|         1.0|   0.0|    0.0|              0.0|          1.0|        1.0|    2.0|       0|       0|     0.0|0.0| 6.0|      5.0|   6.0|0.08999999999999997|\n",
            "|         0.0|   0.0|     0.0|      0.0| 16|   0.0|   0.0|     0.0|         1.0|   0.0|    1.0|              0.0|          1.0|        0.0|    2.0|       0|       4|     0.0|0.0| 3.0|      6.0|   8.0|0.08999999999999997|\n",
            "|         0.0|   0.0|     0.0|      0.0| 16|   0.0|   0.0|     0.0|         1.0|   1.0|    1.0|              0.0|          0.0|        0.0|    2.0|       0|       0|     0.0|0.0| 9.0|      5.0|   2.0|0.08999999999999997|\n",
            "|         0.0|   0.0|     0.0|      0.0| 16|   1.0|   0.0|     0.0|         1.0|   0.0|    0.0|              0.0|          1.0|        0.0|    2.0|       5|       0|     0.0|1.0| 5.0|      6.0|   8.0|0.08999999999999997|\n",
            "|         0.0|   0.0|     0.0|      0.0| 16|   1.0|   0.0|     0.0|         1.0|   0.0|    1.0|              1.0|          1.0|        1.0|    2.0|       0|       0|     0.0|0.0| 7.0|      4.0|   7.0|0.08999999999999997|\n",
            "|         0.0|   0.0|     0.0|      0.0| 16|   1.0|   0.0|     0.0|         1.0|   1.0|    0.0|              0.0|          1.0|        0.0|    3.0|      30|       0|     1.0|0.0|10.0|      3.0|   2.0|0.08999999999999997|\n",
            "|         0.0|   0.0|     0.0|      0.0| 16|   1.0|   0.0|     0.0|         1.0|   1.0|    1.0|              0.0|          1.0|        0.0|    3.0|       0|       0|     0.0|0.0|10.0|      6.0|   3.0|0.08999999999999997|\n",
            "|         0.0|   0.0|     0.0|      0.0| 16|   1.0|   0.0|     0.0|         1.0|   1.0|    1.0|              0.0|          1.0|        0.0|    3.0|       0|       2|     0.0|0.0| 4.0|      4.0|   4.0|0.08999999999999997|\n",
            "|         0.0|   0.0|     0.0|      0.0| 16|   1.0|   0.0|     0.0|         1.0|   1.0|    1.0|              0.0|          1.0|        0.0|    3.0|      15|      30|     1.0|0.0| 7.0|      6.0|   6.0|0.08999999999999997|\n",
            "|         0.0|   0.0|     0.0|      0.0| 17|   0.0|   0.0|     0.0|         0.0|   0.0|    0.0|              0.0|          1.0|        0.0|    5.0|       0|      30|     1.0|0.0|10.0|      5.0|   5.0|0.08999999999999997|\n",
            "|         0.0|   0.0|     0.0|      0.0| 17|   0.0|   0.0|     0.0|         0.0|   0.0|    1.0|              0.0|          1.0|        0.0|    3.0|       0|       0|     1.0|0.0|13.0|      4.0|   2.0|0.08999999999999997|\n",
            "|         0.0|   0.0|     0.0|      0.0| 17|   0.0|   0.0|     0.0|         0.0|   1.0|    0.0|              0.0|          1.0|        0.0|    2.0|       0|       0|     0.0|0.0|11.0|      3.0|   3.0|0.08999999999999997|\n",
            "|         0.0|   0.0|     0.0|      0.0| 17|   0.0|   0.0|     0.0|         0.0|   1.0|    1.0|              0.0|          1.0|        1.0|    1.0|       0|       0|     0.0|0.0| 9.0|      5.0|   4.0|0.08999999999999997|\n",
            "|         0.0|   0.0|     0.0|      0.0| 17|   0.0|   0.0|     0.0|         1.0|   0.0|    0.0|              0.0|          1.0|        0.0|    3.0|       7|       0|     0.0|0.0| 1.0|      4.0|   1.0|0.08999999999999997|\n",
            "|         0.0|   0.0|     0.0|      0.0| 17|   0.0|   0.0|     0.0|         1.0|   0.0|    1.0|              0.0|          1.0|        0.0|    2.0|       0|       0|     0.0|0.0| 5.0|      6.0|   8.0|0.08999999999999997|\n",
            "|         0.0|   0.0|     0.0|      0.0| 17|   0.0|   0.0|     0.0|         1.0|   0.0|    1.0|              0.0|          1.0|        0.0|    2.0|       0|       3|     0.0|1.0| 4.0|      6.0|   7.0|0.08999999999999997|\n",
            "|         0.0|   0.0|     0.0|      0.0| 17|   0.0|   0.0|     0.0|         1.0|   0.0|    1.0|              0.0|          1.0|        0.0|    3.0|       0|       0|     0.0|1.0| 9.0|      6.0|   1.0|0.08999999999999997|\n",
            "+------------+------+--------+---------+---+------+------+--------+------------+------+-------+-----------------+-------------+-----------+-------+--------+--------+--------+---+----+---------+------+-------------------+\n",
            "only showing top 20 rows\n",
            "\n",
            "CPU times: user 26 ms, sys: 2.12 ms, total: 28.1 ms\n",
            "Wall time: 2.63 s\n"
          ]
        }
      ]
    },
    {
      "cell_type": "markdown",
      "source": [
        "### 4.3 Vectorize Numerical Features (VectorAssembler)"
      ],
      "metadata": {
        "id": "0yg8lTUohcPi"
      }
    },
    {
      "cell_type": "code",
      "source": [
        "%%time\n",
        "# Vectorize the numerical data\n",
        "# Elaboration: Vectorize the numerical features first.\n",
        "\n",
        "numerical_vector_assembler = VectorAssembler(inputCols=['BMI', 'MentHlth', 'PhysHlth'],\n",
        "                                             outputCol='vectorized_numerical_features')\n",
        "\n",
        "train = numerical_vector_assembler.transform(train)\n",
        "test = numerical_vector_assembler.transform(test)\n",
        "\n",
        "train.show(3)"
      ],
      "metadata": {
        "id": "9_BKzqEd-HIB",
        "colab": {
          "base_uri": "https://localhost:8080/"
        },
        "outputId": "6a06f4f1-a1fd-47a3-b3aa-222b9ce53636"
      },
      "execution_count": null,
      "outputs": [
        {
          "output_type": "stream",
          "name": "stdout",
          "text": [
            "+------------+------+--------+---------+---+------+------+--------+------------+------+-------+-----------------+-------------+-----------+-------+--------+--------+--------+---+----+---------+------+-------------------+-----------------------------+\n",
            "|HeartDisease|HighBP|HighChol|CholCheck|BMI|Smoker|Stroke|Diabetes|PhysActivity|Fruits|Veggies|HvyAlcoholConsump|AnyHealthcare|NoDocbcCost|GenHlth|MentHlth|PhysHlth|DiffWalk|Sex| Age|Education|Income|            weights|vectorized_numerical_features|\n",
            "+------------+------+--------+---------+---+------+------+--------+------------+------+-------+-----------------+-------------+-----------+-------+--------+--------+--------+---+----+---------+------+-------------------+-----------------------------+\n",
            "|         0.0|   0.0|     0.0|      0.0| 15|   0.0|   0.0|     0.0|         0.0|   1.0|    0.0|              0.0|          0.0|        0.0|    1.0|       0|       0|     0.0|0.0| 1.0|      5.0|   7.0|0.08999999999999997|               [15.0,0.0,0.0]|\n",
            "|         0.0|   0.0|     0.0|      0.0| 15|   1.0|   0.0|     0.0|         0.0|   0.0|    0.0|              0.0|          1.0|        0.0|    5.0|      20|      28|     1.0|0.0|10.0|      6.0|   4.0|0.08999999999999997|             [15.0,20.0,28.0]|\n",
            "|         0.0|   0.0|     0.0|      0.0| 16|   0.0|   0.0|     0.0|         0.0|   0.0|    0.0|              0.0|          1.0|        0.0|    2.0|       0|       0|     0.0|0.0|11.0|      5.0|   5.0|0.08999999999999997|               [16.0,0.0,0.0]|\n",
            "+------------+------+--------+---------+---+------+------+--------+------------+------+-------+-----------------+-------------+-----------+-------+--------+--------+--------+---+----+---------+------+-------------------+-----------------------------+\n",
            "only showing top 3 rows\n",
            "\n",
            "CPU times: user 37 ms, sys: 7.2 ms, total: 44.2 ms\n",
            "Wall time: 3.76 s\n"
          ]
        }
      ]
    },
    {
      "cell_type": "code",
      "source": [
        "%%time\n",
        "train.select('vectorized_numerical_features').take(3)"
      ],
      "metadata": {
        "id": "JGZEdvRJ-HJ9",
        "colab": {
          "base_uri": "https://localhost:8080/"
        },
        "outputId": "4520e489-a139-4803-ef5d-d49774d82990"
      },
      "execution_count": null,
      "outputs": [
        {
          "output_type": "stream",
          "name": "stdout",
          "text": [
            "CPU times: user 23 ms, sys: 2.51 ms, total: 25.5 ms\n",
            "Wall time: 2.53 s\n"
          ]
        },
        {
          "output_type": "execute_result",
          "data": {
            "text/plain": [
              "[Row(vectorized_numerical_features=DenseVector([15.0, 0.0, 0.0])),\n",
              " Row(vectorized_numerical_features=DenseVector([15.0, 20.0, 28.0])),\n",
              " Row(vectorized_numerical_features=DenseVector([16.0, 0.0, 0.0]))]"
            ]
          },
          "metadata": {},
          "execution_count": 26
        }
      ]
    },
    {
      "cell_type": "markdown",
      "source": [
        "### 4.4 Scale Numerical Features (StandardScaler)\n"
      ],
      "metadata": {
        "id": "iK-JAvvEhjZn"
      }
    },
    {
      "cell_type": "code",
      "source": [
        "%%time\n",
        "'''\n",
        "# Scale the numerical data\n",
        "# Elaboration: Scale the numerical features to maintain similar order\n",
        "                of magnitude for modeling.\n",
        "'''\n",
        "\n",
        "scaler = StandardScaler(inputCol='vectorized_numerical_features',\n",
        "                        outputCol='scaled_numerical_features',\n",
        "                        withStd=True, withMean=True)\n",
        "\n",
        "scaler = scaler.fit(train)\n",
        "\n",
        "train = scaler.transform(train)\n",
        "test = scaler.transform(test)\n",
        "\n",
        "train.show(3)"
      ],
      "metadata": {
        "id": "ijb2Ekt2-HL7",
        "colab": {
          "base_uri": "https://localhost:8080/"
        },
        "outputId": "d7457e11-a5ba-48bd-a3fe-a674ef5cacf0"
      },
      "execution_count": null,
      "outputs": [
        {
          "output_type": "stream",
          "name": "stdout",
          "text": [
            "+------------+------+--------+---------+---+------+------+--------+------------+------+-------+-----------------+-------------+-----------+-------+--------+--------+--------+---+----+---------+------+-------------------+-----------------------------+-------------------------+\n",
            "|HeartDisease|HighBP|HighChol|CholCheck|BMI|Smoker|Stroke|Diabetes|PhysActivity|Fruits|Veggies|HvyAlcoholConsump|AnyHealthcare|NoDocbcCost|GenHlth|MentHlth|PhysHlth|DiffWalk|Sex| Age|Education|Income|            weights|vectorized_numerical_features|scaled_numerical_features|\n",
            "+------------+------+--------+---------+---+------+------+--------+------------+------+-------+-----------------+-------------+-----------+-------+--------+--------+--------+---+----+---------+------+-------------------+-----------------------------+-------------------------+\n",
            "|         0.0|   0.0|     0.0|      0.0| 15|   0.0|   0.0|     0.0|         0.0|   1.0|    0.0|              0.0|          0.0|        0.0|    1.0|       0|       0|     0.0|0.0| 1.0|      5.0|   7.0|0.08999999999999997|               [15.0,0.0,0.0]|     [-2.0283343811646...|\n",
            "|         0.0|   0.0|     0.0|      0.0| 15|   1.0|   0.0|     0.0|         0.0|   0.0|    0.0|              0.0|          1.0|        0.0|    5.0|      20|      28|     1.0|0.0|10.0|      6.0|   4.0|0.08999999999999997|             [15.0,20.0,28.0]|     [-2.0283343811646...|\n",
            "|         0.0|   0.0|     0.0|      0.0| 16|   0.0|   0.0|     0.0|         0.0|   0.0|    0.0|              0.0|          1.0|        0.0|    2.0|       0|       0|     0.0|0.0|11.0|      5.0|   5.0|0.08999999999999997|               [16.0,0.0,0.0]|     [-1.8767119826684...|\n",
            "+------------+------+--------+---------+---+------+------+--------+------------+------+-------+-----------------+-------------+-----------+-------+--------+--------+--------+---+----+---------+------+-------------------+-----------------------------+-------------------------+\n",
            "only showing top 3 rows\n",
            "\n",
            "CPU times: user 64.1 ms, sys: 7.51 ms, total: 71.6 ms\n",
            "Wall time: 6.62 s\n"
          ]
        }
      ]
    },
    {
      "cell_type": "code",
      "source": [
        "%%time\n",
        "train.select('scaled_numerical_features').take(3)"
      ],
      "metadata": {
        "id": "dKSIuXR1mVR4",
        "colab": {
          "base_uri": "https://localhost:8080/"
        },
        "outputId": "7fb13faf-15d9-406f-fe6c-39f196bf872e"
      },
      "execution_count": null,
      "outputs": [
        {
          "output_type": "stream",
          "name": "stdout",
          "text": [
            "CPU times: user 21.6 ms, sys: 4.14 ms, total: 25.7 ms\n",
            "Wall time: 2.27 s\n"
          ]
        },
        {
          "output_type": "execute_result",
          "data": {
            "text/plain": [
              "[Row(scaled_numerical_features=DenseVector([-2.0283, -0.4306, -0.4866])),\n",
              " Row(scaled_numerical_features=DenseVector([-2.0283, 2.2651, 2.7193])),\n",
              " Row(scaled_numerical_features=DenseVector([-1.8767, -0.4306, -0.4866]))]"
            ]
          },
          "metadata": {},
          "execution_count": 28
        }
      ]
    },
    {
      "cell_type": "markdown",
      "source": [
        "### 4.5 Categorical Features Pipeline: OneHotEncoder & VectorAssembler"
      ],
      "metadata": {
        "id": "VjACffaohygO"
      }
    },
    {
      "cell_type": "code",
      "source": [
        "%%time\n",
        "'''\n",
        "# Categorical Features Pipeline: OneHotEncoder & VectorAssembler\n",
        "# Elaboration: Categorical features are encoded and vectorized in a pipeline.\n",
        "\n",
        "Since the features are double/float datatype, StringIndexer is not required.\n",
        "'''\n",
        "\n",
        "# List of categorical features\n",
        "categorical_features= ['HighBP', 'HighChol', 'CholCheck',\n",
        "                                          'Smoker', 'Stroke', 'Diabetes',\n",
        "                                          'PhysActivity', 'Fruits', 'Veggies',\n",
        "                                          'HvyAlcoholConsump', 'AnyHealthcare',\n",
        "                                          'NoDocbcCost', 'GenHlth', 'DiffWalk',\n",
        "                                          'Sex', 'Age', 'Education', 'Income']\n",
        "\n",
        "# The index of string values multiple columns\n",
        "'''\n",
        "indexers = [\n",
        "    StringIndexer(inputCol=c, outputCol=\"{0}_indexed\".format(c))\n",
        "    for c in categorical_features\n",
        "]\n",
        "'''\n",
        "\n",
        "# The encode of indexed values multiple columns\n",
        "encoders = [OneHotEncoder(dropLast=False,inputCol=c,\n",
        "            outputCol=\"{0}_encoded\".format(c))\n",
        "    for c in categorical_features\n",
        "]\n",
        "\n",
        "# Vectorizing encoded values\n",
        "assembler = VectorAssembler(inputCols=[encoder.getOutputCol() for encoder in encoders],outputCol=\"encoded_feature_vector\")\n",
        "\n",
        "# Apply every stage into a pipeline\n",
        "pipeline = Pipeline(stages=encoders+[assembler])\n",
        "model = pipeline.fit(train)\n",
        "\n",
        "train = model.transform(train)\n",
        "test = model.transform(test)\n",
        "\n",
        "train.show(3)"
      ],
      "metadata": {
        "colab": {
          "base_uri": "https://localhost:8080/"
        },
        "id": "Pf01XIxYWSdk",
        "outputId": "11895bfc-b470-4fc7-84f0-295aa1b66455"
      },
      "execution_count": null,
      "outputs": [
        {
          "output_type": "stream",
          "name": "stdout",
          "text": [
            "+------------+------+--------+---------+---+------+------+--------+------------+------+-------+-----------------+-------------+-----------+-------+--------+--------+--------+---+----+---------+------+-------------------+-----------------------------+-------------------------+--------------+----------------+-----------------+--------------+--------------+----------------+--------------------+--------------+---------------+-------------------------+---------------------+-------------------+---------------+----------------+-------------+---------------+-----------------+--------------+----------------------+\n",
            "|HeartDisease|HighBP|HighChol|CholCheck|BMI|Smoker|Stroke|Diabetes|PhysActivity|Fruits|Veggies|HvyAlcoholConsump|AnyHealthcare|NoDocbcCost|GenHlth|MentHlth|PhysHlth|DiffWalk|Sex| Age|Education|Income|            weights|vectorized_numerical_features|scaled_numerical_features|HighBP_encoded|HighChol_encoded|CholCheck_encoded|Smoker_encoded|Stroke_encoded|Diabetes_encoded|PhysActivity_encoded|Fruits_encoded|Veggies_encoded|HvyAlcoholConsump_encoded|AnyHealthcare_encoded|NoDocbcCost_encoded|GenHlth_encoded|DiffWalk_encoded|  Sex_encoded|    Age_encoded|Education_encoded|Income_encoded|encoded_feature_vector|\n",
            "+------------+------+--------+---------+---+------+------+--------+------------+------+-------+-----------------+-------------+-----------+-------+--------+--------+--------+---+----+---------+------+-------------------+-----------------------------+-------------------------+--------------+----------------+-----------------+--------------+--------------+----------------+--------------------+--------------+---------------+-------------------------+---------------------+-------------------+---------------+----------------+-------------+---------------+-----------------+--------------+----------------------+\n",
            "|         0.0|   0.0|     0.0|      0.0| 15|   0.0|   0.0|     0.0|         0.0|   1.0|    0.0|              0.0|          0.0|        0.0|    1.0|       0|       0|     0.0|0.0| 1.0|      5.0|   7.0|0.08999999999999997|               [15.0,0.0,0.0]|     [-2.0283343811646...| (2,[0],[1.0])|   (2,[0],[1.0])|    (2,[0],[1.0])| (2,[0],[1.0])| (2,[0],[1.0])|   (3,[0],[1.0])|       (2,[0],[1.0])| (2,[1],[1.0])|  (2,[0],[1.0])|            (2,[0],[1.0])|        (2,[0],[1.0])|      (2,[0],[1.0])|  (6,[1],[1.0])|   (2,[0],[1.0])|(2,[0],[1.0])| (14,[1],[1.0])|    (7,[5],[1.0])| (9,[7],[1.0])|  (65,[0,2,4,6,8,10...|\n",
            "|         0.0|   0.0|     0.0|      0.0| 15|   1.0|   0.0|     0.0|         0.0|   0.0|    0.0|              0.0|          1.0|        0.0|    5.0|      20|      28|     1.0|0.0|10.0|      6.0|   4.0|0.08999999999999997|             [15.0,20.0,28.0]|     [-2.0283343811646...| (2,[0],[1.0])|   (2,[0],[1.0])|    (2,[0],[1.0])| (2,[1],[1.0])| (2,[0],[1.0])|   (3,[0],[1.0])|       (2,[0],[1.0])| (2,[0],[1.0])|  (2,[0],[1.0])|            (2,[0],[1.0])|        (2,[1],[1.0])|      (2,[0],[1.0])|  (6,[5],[1.0])|   (2,[1],[1.0])|(2,[0],[1.0])|(14,[10],[1.0])|    (7,[6],[1.0])| (9,[4],[1.0])|  (65,[0,2,4,7,8,10...|\n",
            "|         0.0|   0.0|     0.0|      0.0| 16|   0.0|   0.0|     0.0|         0.0|   0.0|    0.0|              0.0|          1.0|        0.0|    2.0|       0|       0|     0.0|0.0|11.0|      5.0|   5.0|0.08999999999999997|               [16.0,0.0,0.0]|     [-1.8767119826684...| (2,[0],[1.0])|   (2,[0],[1.0])|    (2,[0],[1.0])| (2,[0],[1.0])| (2,[0],[1.0])|   (3,[0],[1.0])|       (2,[0],[1.0])| (2,[0],[1.0])|  (2,[0],[1.0])|            (2,[0],[1.0])|        (2,[1],[1.0])|      (2,[0],[1.0])|  (6,[2],[1.0])|   (2,[0],[1.0])|(2,[0],[1.0])|(14,[11],[1.0])|    (7,[5],[1.0])| (9,[5],[1.0])|  (65,[0,2,4,6,8,10...|\n",
            "+------------+------+--------+---------+---+------+------+--------+------------+------+-------+-----------------+-------------+-----------+-------+--------+--------+--------+---+----+---------+------+-------------------+-----------------------------+-------------------------+--------------+----------------+-----------------+--------------+--------------+----------------+--------------------+--------------+---------------+-------------------------+---------------------+-------------------+---------------+----------------+-------------+---------------+-----------------+--------------+----------------------+\n",
            "only showing top 3 rows\n",
            "\n",
            "CPU times: user 615 ms, sys: 90.1 ms, total: 705 ms\n",
            "Wall time: 48.1 s\n"
          ]
        }
      ]
    },
    {
      "cell_type": "markdown",
      "source": [
        "### 4.6 Vectorize All Features (VectorAssembler)"
      ],
      "metadata": {
        "id": "9-7izKLAiD1C"
      }
    },
    {
      "cell_type": "code",
      "source": [
        "%%time\n",
        "'''\n",
        "# Assemble both together by vectorizing the data again.\n",
        "# Elaboration: Now, vectorize all the features together to form the\n",
        "                final feature vector.\n",
        "'''\n",
        "\n",
        "assembler = VectorAssembler(inputCols=['scaled_numerical_features',\n",
        "                                       'encoded_feature_vector'],\n",
        "                            outputCol='final_feature_vector')\n",
        "\n",
        "train = assembler.transform(train)\n",
        "test = assembler.transform(test)\n",
        "\n",
        "train.show(3)"
      ],
      "metadata": {
        "id": "-gqM3_zpjE1v",
        "colab": {
          "base_uri": "https://localhost:8080/"
        },
        "outputId": "f1d25bc9-d164-4eb3-ed32-ee59a83db471"
      },
      "execution_count": null,
      "outputs": [
        {
          "output_type": "stream",
          "name": "stdout",
          "text": [
            "+------------+------+--------+---------+---+------+------+--------+------------+------+-------+-----------------+-------------+-----------+-------+--------+--------+--------+---+----+---------+------+-------------------+-----------------------------+-------------------------+--------------+----------------+-----------------+--------------+--------------+----------------+--------------------+--------------+---------------+-------------------------+---------------------+-------------------+---------------+----------------+-------------+---------------+-----------------+--------------+----------------------+--------------------+\n",
            "|HeartDisease|HighBP|HighChol|CholCheck|BMI|Smoker|Stroke|Diabetes|PhysActivity|Fruits|Veggies|HvyAlcoholConsump|AnyHealthcare|NoDocbcCost|GenHlth|MentHlth|PhysHlth|DiffWalk|Sex| Age|Education|Income|            weights|vectorized_numerical_features|scaled_numerical_features|HighBP_encoded|HighChol_encoded|CholCheck_encoded|Smoker_encoded|Stroke_encoded|Diabetes_encoded|PhysActivity_encoded|Fruits_encoded|Veggies_encoded|HvyAlcoholConsump_encoded|AnyHealthcare_encoded|NoDocbcCost_encoded|GenHlth_encoded|DiffWalk_encoded|  Sex_encoded|    Age_encoded|Education_encoded|Income_encoded|encoded_feature_vector|final_feature_vector|\n",
            "+------------+------+--------+---------+---+------+------+--------+------------+------+-------+-----------------+-------------+-----------+-------+--------+--------+--------+---+----+---------+------+-------------------+-----------------------------+-------------------------+--------------+----------------+-----------------+--------------+--------------+----------------+--------------------+--------------+---------------+-------------------------+---------------------+-------------------+---------------+----------------+-------------+---------------+-----------------+--------------+----------------------+--------------------+\n",
            "|         0.0|   0.0|     0.0|      0.0| 15|   0.0|   0.0|     0.0|         0.0|   1.0|    0.0|              0.0|          0.0|        0.0|    1.0|       0|       0|     0.0|0.0| 1.0|      5.0|   7.0|0.08999999999999997|               [15.0,0.0,0.0]|     [-2.0283343811646...| (2,[0],[1.0])|   (2,[0],[1.0])|    (2,[0],[1.0])| (2,[0],[1.0])| (2,[0],[1.0])|   (3,[0],[1.0])|       (2,[0],[1.0])| (2,[1],[1.0])|  (2,[0],[1.0])|            (2,[0],[1.0])|        (2,[0],[1.0])|      (2,[0],[1.0])|  (6,[1],[1.0])|   (2,[0],[1.0])|(2,[0],[1.0])| (14,[1],[1.0])|    (7,[5],[1.0])| (9,[7],[1.0])|  (65,[0,2,4,6,8,10...|(68,[0,1,2,3,5,7,...|\n",
            "|         0.0|   0.0|     0.0|      0.0| 15|   1.0|   0.0|     0.0|         0.0|   0.0|    0.0|              0.0|          1.0|        0.0|    5.0|      20|      28|     1.0|0.0|10.0|      6.0|   4.0|0.08999999999999997|             [15.0,20.0,28.0]|     [-2.0283343811646...| (2,[0],[1.0])|   (2,[0],[1.0])|    (2,[0],[1.0])| (2,[1],[1.0])| (2,[0],[1.0])|   (3,[0],[1.0])|       (2,[0],[1.0])| (2,[0],[1.0])|  (2,[0],[1.0])|            (2,[0],[1.0])|        (2,[1],[1.0])|      (2,[0],[1.0])|  (6,[5],[1.0])|   (2,[1],[1.0])|(2,[0],[1.0])|(14,[10],[1.0])|    (7,[6],[1.0])| (9,[4],[1.0])|  (65,[0,2,4,7,8,10...|(68,[0,1,2,3,5,7,...|\n",
            "|         0.0|   0.0|     0.0|      0.0| 16|   0.0|   0.0|     0.0|         0.0|   0.0|    0.0|              0.0|          1.0|        0.0|    2.0|       0|       0|     0.0|0.0|11.0|      5.0|   5.0|0.08999999999999997|               [16.0,0.0,0.0]|     [-1.8767119826684...| (2,[0],[1.0])|   (2,[0],[1.0])|    (2,[0],[1.0])| (2,[0],[1.0])| (2,[0],[1.0])|   (3,[0],[1.0])|       (2,[0],[1.0])| (2,[0],[1.0])|  (2,[0],[1.0])|            (2,[0],[1.0])|        (2,[1],[1.0])|      (2,[0],[1.0])|  (6,[2],[1.0])|   (2,[0],[1.0])|(2,[0],[1.0])|(14,[11],[1.0])|    (7,[5],[1.0])| (9,[5],[1.0])|  (65,[0,2,4,6,8,10...|(68,[0,1,2,3,5,7,...|\n",
            "+------------+------+--------+---------+---+------+------+--------+------------+------+-------+-----------------+-------------+-----------+-------+--------+--------+--------+---+----+---------+------+-------------------+-----------------------------+-------------------------+--------------+----------------+-----------------+--------------+--------------+----------------+--------------------+--------------+---------------+-------------------------+---------------------+-------------------+---------------+----------------+-------------+---------------+-----------------+--------------+----------------------+--------------------+\n",
            "only showing top 3 rows\n",
            "\n",
            "CPU times: user 25.1 ms, sys: 4.3 ms, total: 29.4 ms\n",
            "Wall time: 2.57 s\n"
          ]
        }
      ]
    },
    {
      "cell_type": "code",
      "source": [
        "%%time\n",
        "train.select('final_feature_vector').take(3)"
      ],
      "metadata": {
        "id": "DGgpPDlIoHR1",
        "colab": {
          "base_uri": "https://localhost:8080/"
        },
        "outputId": "e9d49c38-4ed8-4d6a-96b1-7bbe84f159e0"
      },
      "execution_count": null,
      "outputs": [
        {
          "output_type": "stream",
          "name": "stdout",
          "text": [
            "CPU times: user 22.4 ms, sys: 3.08 ms, total: 25.5 ms\n",
            "Wall time: 2.36 s\n"
          ]
        },
        {
          "output_type": "execute_result",
          "data": {
            "text/plain": [
              "[Row(final_feature_vector=SparseVector(68, {0: -2.0283, 1: -0.4306, 2: -0.4866, 3: 1.0, 5: 1.0, 7: 1.0, 9: 1.0, 11: 1.0, 13: 1.0, 16: 1.0, 19: 1.0, 20: 1.0, 22: 1.0, 24: 1.0, 26: 1.0, 29: 1.0, 34: 1.0, 36: 1.0, 39: 1.0, 57: 1.0, 66: 1.0})),\n",
              " Row(final_feature_vector=SparseVector(68, {0: -2.0283, 1: 2.2651, 2: 2.7193, 3: 1.0, 5: 1.0, 7: 1.0, 10: 1.0, 11: 1.0, 13: 1.0, 16: 1.0, 18: 1.0, 20: 1.0, 22: 1.0, 25: 1.0, 26: 1.0, 33: 1.0, 35: 1.0, 36: 1.0, 48: 1.0, 58: 1.0, 63: 1.0})),\n",
              " Row(final_feature_vector=SparseVector(68, {0: -1.8767, 1: -0.4306, 2: -0.4866, 3: 1.0, 5: 1.0, 7: 1.0, 9: 1.0, 11: 1.0, 13: 1.0, 16: 1.0, 18: 1.0, 20: 1.0, 22: 1.0, 25: 1.0, 26: 1.0, 30: 1.0, 34: 1.0, 36: 1.0, 49: 1.0, 57: 1.0, 64: 1.0}))]"
            ]
          },
          "metadata": {},
          "execution_count": 31
        }
      ]
    },
    {
      "cell_type": "markdown",
      "source": [
        "### 4.7 Fit the model (Logistic Regression)"
      ],
      "metadata": {
        "id": "XHonhvbqcIF3"
      }
    },
    {
      "cell_type": "code",
      "source": [
        "%%time\n",
        "'''\n",
        "# Logistic Regression Model\n",
        "# Elaboration: Model fitting is a measure of how well a machine learning model\n",
        "               generalizes to similar data to that on which it was trained.\n",
        "               A model that is well-fitted produces more accurate outcomes.\n",
        "               A model that is overfitted matches the data too closely.\n",
        "               A model that is underfitted doesn't match closely enough.\n",
        "\n",
        "# weightCol='weight' is the sampling function from pyspark to balance\n",
        "  the target class using weight variable (which was created few steps ago).\n",
        "'''\n",
        "\n",
        "lr = LogisticRegression(labelCol='HeartDisease', featuresCol='final_feature_vector', weightCol='weights') #,maxIter=10\n",
        "\n",
        "lr = lr.fit(train)\n",
        "\n",
        "# Transform the train and test set\n",
        "predict_train = lr.transform(train)\n",
        "predict_test = lr.transform(test)\n",
        "\n",
        "# Rename the columns for train set\n",
        "predict_train = predict_train.withColumnRenamed('prediction',\n",
        "                                                      'Predicted_HeartDisease')\n",
        "predict_train = predict_train.withColumnRenamed('final_feature_vector',\n",
        "                                                      'Features')\n",
        "\n",
        "# Rename the columns for test set\n",
        "predict_test = predict_test.withColumnRenamed('prediction',\n",
        "                                                      'Predicted_HeartDisease')\n",
        "predict_test = predict_test.withColumnRenamed('final_feature_vector',\n",
        "                                                      'Features')"
      ],
      "metadata": {
        "id": "kmQG07XraeX2",
        "colab": {
          "base_uri": "https://localhost:8080/"
        },
        "outputId": "29822896-6106-4310-a00d-15ecb5f5a47f"
      },
      "execution_count": null,
      "outputs": [
        {
          "output_type": "stream",
          "name": "stdout",
          "text": [
            "CPU times: user 147 ms, sys: 22.7 ms, total: 170 ms\n",
            "Wall time: 18.9 s\n"
          ]
        }
      ]
    },
    {
      "cell_type": "code",
      "source": [
        "%%time\n",
        "# Show the train table with predicted class column\n",
        "predict_train.select('HeartDisease', 'Features', 'rawPrediction', 'Predicted_HeartDisease', 'probability').show(10)"
      ],
      "metadata": {
        "colab": {
          "base_uri": "https://localhost:8080/"
        },
        "id": "NTeNJB3_aeZ1",
        "outputId": "0d9068a5-99fa-4b8f-8c2d-b9e6d58fa033"
      },
      "execution_count": null,
      "outputs": [
        {
          "output_type": "stream",
          "name": "stdout",
          "text": [
            "+------------+--------------------+--------------------+----------------------+--------------------+\n",
            "|HeartDisease|            Features|       rawPrediction|Predicted_HeartDisease|         probability|\n",
            "+------------+--------------------+--------------------+----------------------+--------------------+\n",
            "|         0.0|(68,[0,1,2,3,5,7,...|[4.88656868995633...|                   0.0|[0.99250925954284...|\n",
            "|         0.0|(68,[0,1,2,3,5,7,...|[-0.0482901100604...|                   1.0|[0.48792981796679...|\n",
            "|         0.0|(68,[0,1,2,3,5,7,...|[1.94632509286492...|                   0.0|[0.87504537741762...|\n",
            "|         0.0|(68,[0,1,2,3,5,7,...|[3.13642783842414...|                   0.0|[0.95837059744983...|\n",
            "|         0.0|(68,[0,1,2,3,5,7,...|[4.15787936163597...|                   0.0|[0.98460017291200...|\n",
            "|         0.0|(68,[0,1,2,3,5,7,...|[2.26276694184969...|                   0.0|[0.90574611047406...|\n",
            "|         0.0|(68,[0,1,2,3,5,7,...|[2.72493407820219...|                   0.0|[0.93848201251763...|\n",
            "|         0.0|(68,[0,1,2,3,5,7,...|[2.87512756482902...|                   0.0|[0.94660311841531...|\n",
            "|         0.0|(68,[0,1,2,3,5,7,...|[0.73001091981667...|                   0.0|[0.67480766885634...|\n",
            "|         0.0|(68,[0,1,2,3,5,7,...|[1.22723155897124...|                   0.0|[0.77333366506406...|\n",
            "+------------+--------------------+--------------------+----------------------+--------------------+\n",
            "only showing top 10 rows\n",
            "\n",
            "CPU times: user 20.2 ms, sys: 4.94 ms, total: 25.2 ms\n",
            "Wall time: 2.34 s\n"
          ]
        }
      ]
    },
    {
      "cell_type": "code",
      "source": [
        "%%time\n",
        "# Show the test table with predicted class column\n",
        "predict_test.select('HeartDisease', 'Features', 'rawPrediction', 'Predicted_HeartDisease', 'probability').show(10)"
      ],
      "metadata": {
        "colab": {
          "base_uri": "https://localhost:8080/"
        },
        "id": "zylPjHgyaecB",
        "outputId": "2fc62b5c-2ba6-47a1-80cf-25b7459add71"
      },
      "execution_count": null,
      "outputs": [
        {
          "output_type": "stream",
          "name": "stdout",
          "text": [
            "+------------+--------------------+--------------------+----------------------+--------------------+\n",
            "|HeartDisease|            Features|       rawPrediction|Predicted_HeartDisease|         probability|\n",
            "+------------+--------------------+--------------------+----------------------+--------------------+\n",
            "|         0.0|(68,[0,1,2,3,5,7,...|[0.34850572710793...|                   0.0|[0.58625517479491...|\n",
            "|         0.0|(68,[0,1,2,3,5,7,...|[4.28426470442607...|                   0.0|[0.98640365572169...|\n",
            "|         0.0|(68,[0,1,2,3,5,7,...|[2.65001443973917...|                   0.0|[0.93401188048873...|\n",
            "|         0.0|(68,[0,1,2,3,5,7,...|[1.39256029365313...|                   0.0|[0.80100066490169...|\n",
            "|         0.0|(68,[0,1,2,3,5,7,...|[4.36159712273403...|                   0.0|[0.98740272074434...|\n",
            "|         0.0|(68,[0,1,2,3,5,7,...|[2.76760607233991...|                   0.0|[0.94090000738125...|\n",
            "|         0.0|(68,[0,1,2,3,5,7,...|[4.66499172924294...|                   0.0|[0.99066856965749...|\n",
            "|         0.0|(68,[0,1,2,3,5,7,...|[3.68630208306407...|                   0.0|[0.97554835138851...|\n",
            "|         0.0|(68,[0,1,2,3,5,7,...|[2.90956577078419...|                   0.0|[0.94831728640323...|\n",
            "|         0.0|(68,[0,1,2,3,5,7,...|[2.09595375004325...|                   0.0|[0.89050928224868...|\n",
            "+------------+--------------------+--------------------+----------------------+--------------------+\n",
            "only showing top 10 rows\n",
            "\n",
            "CPU times: user 24.3 ms, sys: 2.99 ms, total: 27.3 ms\n",
            "Wall time: 2.39 s\n"
          ]
        }
      ]
    },
    {
      "cell_type": "code",
      "source": [
        "# Convert the train dataframe to pandas dataframe\n",
        "#predict_train_df = predict_train.toPandas()\n",
        "\n",
        "#predict_train_df.head(3)"
      ],
      "metadata": {
        "id": "3g8MvrZznMBq"
      },
      "execution_count": null,
      "outputs": []
    },
    {
      "cell_type": "code",
      "source": [
        "# Convert the test dataframe to pandas dataframe\n",
        "#predict_test_df = predict_test.toPandas()\n",
        "\n",
        "#predict_test_df.head(3)"
      ],
      "metadata": {
        "id": "8zW4HAkoaed-"
      },
      "execution_count": null,
      "outputs": []
    },
    {
      "cell_type": "markdown",
      "source": [
        "## 5.Model Evaluation"
      ],
      "metadata": {
        "id": "JrFV3M8pptHG"
      }
    },
    {
      "cell_type": "code",
      "source": [
        "%%time\n",
        "# Convert train dataframe to rdd for predictionAndLabels\n",
        "predictions_and_actuals_train = predict_train[['Predicted_HeartDisease',\n",
        "                                        'HeartDisease']]\n",
        "\n",
        "predictions_and_actuals_train_rdd = predictions_and_actuals_train.rdd\n",
        "\n",
        "predictions_and_actuals_train_rdd.take(3)"
      ],
      "metadata": {
        "colab": {
          "base_uri": "https://localhost:8080/"
        },
        "id": "qY47okFknXtX",
        "outputId": "ffdac63e-15ed-4a12-95f1-17775f912fe1"
      },
      "execution_count": null,
      "outputs": [
        {
          "output_type": "stream",
          "name": "stdout",
          "text": [
            "CPU times: user 34.5 ms, sys: 3.87 ms, total: 38.4 ms\n",
            "Wall time: 2.48 s\n"
          ]
        },
        {
          "output_type": "execute_result",
          "data": {
            "text/plain": [
              "[Row(Predicted_HeartDisease=0.0, HeartDisease=0.0),\n",
              " Row(Predicted_HeartDisease=1.0, HeartDisease=0.0),\n",
              " Row(Predicted_HeartDisease=0.0, HeartDisease=0.0)]"
            ]
          },
          "metadata": {},
          "execution_count": 37
        }
      ]
    },
    {
      "cell_type": "code",
      "source": [
        "%%time\n",
        "# Convert test dataframe to rdd for predictionAndLabels\n",
        "predictions_and_actuals_test = predict_test[['Predicted_HeartDisease',\n",
        "                                        'HeartDisease']]\n",
        "\n",
        "predictions_and_actuals_test_rdd = predictions_and_actuals_test.rdd\n",
        "\n",
        "predictions_and_actuals_test_rdd.take(3)"
      ],
      "metadata": {
        "colab": {
          "base_uri": "https://localhost:8080/"
        },
        "id": "drE5O0Tlaehk",
        "outputId": "18be18c2-cacd-4552-d011-bdd3ca161a2f"
      },
      "execution_count": null,
      "outputs": [
        {
          "output_type": "stream",
          "name": "stdout",
          "text": [
            "CPU times: user 28.4 ms, sys: 1.12 ms, total: 29.6 ms\n",
            "Wall time: 2.38 s\n"
          ]
        },
        {
          "output_type": "execute_result",
          "data": {
            "text/plain": [
              "[Row(Predicted_HeartDisease=0.0, HeartDisease=0.0),\n",
              " Row(Predicted_HeartDisease=0.0, HeartDisease=0.0),\n",
              " Row(Predicted_HeartDisease=0.0, HeartDisease=0.0)]"
            ]
          },
          "metadata": {},
          "execution_count": 38
        }
      ]
    },
    {
      "cell_type": "code",
      "source": [
        "%%time\n",
        "predictions_and_actuals_train_rdd = predictions_and_actuals_train_rdd.map(tuple)\n",
        "\n",
        "predictions_and_actuals_train_rdd.take(3)"
      ],
      "metadata": {
        "colab": {
          "base_uri": "https://localhost:8080/"
        },
        "id": "mR_vAYYonkjv",
        "outputId": "2a04ce2d-f7aa-4485-f8a8-f3bb67e5855c"
      },
      "execution_count": null,
      "outputs": [
        {
          "output_type": "stream",
          "name": "stdout",
          "text": [
            "CPU times: user 21.2 ms, sys: 2.27 ms, total: 23.4 ms\n",
            "Wall time: 2.11 s\n"
          ]
        },
        {
          "output_type": "execute_result",
          "data": {
            "text/plain": [
              "[(0.0, 0.0), (1.0, 0.0), (0.0, 0.0)]"
            ]
          },
          "metadata": {},
          "execution_count": 39
        }
      ]
    },
    {
      "cell_type": "code",
      "source": [
        "%%time\n",
        "predictions_and_actuals_test_rdd = predictions_and_actuals_test_rdd.map(tuple)\n",
        "\n",
        "predictions_and_actuals_test_rdd.take(3)"
      ],
      "metadata": {
        "colab": {
          "base_uri": "https://localhost:8080/"
        },
        "id": "8-_YTILeaej-",
        "outputId": "5f6784a5-f025-4d76-b56d-ae1a85cc3934"
      },
      "execution_count": null,
      "outputs": [
        {
          "output_type": "stream",
          "name": "stdout",
          "text": [
            "CPU times: user 20.8 ms, sys: 3.91 ms, total: 24.7 ms\n",
            "Wall time: 1.99 s\n"
          ]
        },
        {
          "output_type": "execute_result",
          "data": {
            "text/plain": [
              "[(0.0, 0.0), (0.0, 0.0), (0.0, 0.0)]"
            ]
          },
          "metadata": {},
          "execution_count": 40
        }
      ]
    },
    {
      "cell_type": "markdown",
      "source": [
        "## 5.Model Evaluation"
      ],
      "metadata": {
        "id": "CDlAz9ch_7Og"
      }
    },
    {
      "cell_type": "code",
      "source": [
        "%%time\n",
        "# Show Train Set Metrics (MulticlassMetrics)\n",
        "# Elaboration: To show the model performance for the Train set.\n",
        "\n",
        "train_metrics = MulticlassMetrics(predictions_and_actuals_train_rdd)\n",
        "\n",
        "print('\\nTrain Set Metrics (MulticlassMetrics)\\n')\n",
        "\n",
        "print(train_metrics.confusionMatrix().toArray())\n",
        "\n",
        "s = '''\n",
        "Accuracy:                     {0}\n",
        "Weighted False-Positive Rate: {1}\n",
        "Precision:                    {2}\n",
        "Recall:                       {3}\n",
        "Weighted True-Positive Rate:  {4}\n",
        "'''.format(train_metrics.accuracy,\n",
        "           train_metrics.weightedFalsePositiveRate,\n",
        "           train_metrics.weightedPrecision,\n",
        "           train_metrics.weightedRecall,\n",
        "           train_metrics.weightedTruePositiveRate,\n",
        "           #train_metrics for f1-score still beta version for PySpark\n",
        "           )\n",
        "\n",
        "print(s)"
      ],
      "metadata": {
        "colab": {
          "base_uri": "https://localhost:8080/"
        },
        "id": "E3kpJRFZaemC",
        "outputId": "864ac46a-d92e-4808-d5bf-4f29f5db6242"
      },
      "execution_count": null,
      "outputs": [
        {
          "output_type": "stream",
          "name": "stderr",
          "text": [
            "/usr/local/lib/python3.8/dist-packages/pyspark/sql/context.py:157: FutureWarning: Deprecated in 3.0.0. Use SparkSession.builder.getOrCreate() instead.\n",
            "  warnings.warn(\n"
          ]
        },
        {
          "output_type": "stream",
          "name": "stdout",
          "text": [
            "\n",
            "Train Set Metrics (MulticlassMetrics)\n",
            "\n",
            "[[118362.  42087.]\n",
            " [  3255.  13510.]]\n",
            "\n",
            "Accuracy:                     0.744139853510445\n",
            "Weighted False-Positive Rate: 0.20060199118773633\n",
            "Precision:                    0.9041529469251751\n",
            "Recall:                       0.744139853510445\n",
            "Weighted True-Positive Rate:  0.744139853510445\n",
            "\n",
            "CPU times: user 102 ms, sys: 10.8 ms, total: 113 ms\n",
            "Wall time: 11.9 s\n"
          ]
        }
      ]
    },
    {
      "cell_type": "code",
      "source": [
        "%%time\n",
        "# Show test Set Metrics (MulticlassMetrics)\n",
        "# Elaboration: To show the model performance for the Test set.\n",
        "\n",
        "test_metrics = MulticlassMetrics(predictions_and_actuals_test_rdd)\n",
        "\n",
        "print('\\nTest Set Metrics (MulticlassMetrics)\\n')\n",
        "\n",
        "print(test_metrics.confusionMatrix().toArray())\n",
        "\n",
        "s = '''\n",
        "Accuracy:                     {0}\n",
        "Weighted False-Positive Rate: {1}\n",
        "Precision:                    {2}\n",
        "Recall:                       {3}\n",
        "Weighted True-Positive Rate:  {4}\n",
        "'''.format(test_metrics.accuracy,\n",
        "           test_metrics.weightedFalsePositiveRate,\n",
        "           test_metrics.weightedPrecision,\n",
        "           test_metrics.weightedRecall,\n",
        "           test_metrics.weightedTruePositiveRate,\n",
        "           #test_metrics for f1-score still beta version for PySpark\n",
        "           )\n",
        "\n",
        "print(s)"
      ],
      "metadata": {
        "colab": {
          "base_uri": "https://localhost:8080/"
        },
        "id": "rzYpRAqvlirp",
        "outputId": "db805547-bee0-429a-e4b7-abe7a12155ef"
      },
      "execution_count": null,
      "outputs": [
        {
          "output_type": "stream",
          "name": "stdout",
          "text": [
            "\n",
            "Test Set Metrics (MulticlassMetrics)\n",
            "\n",
            "[[51223. 18115.]\n",
            " [ 1396.  5732.]]\n",
            "\n",
            "Accuracy:                     0.7448408442968116\n",
            "Weighted False-Positive Rate: 0.2019446607033673\n",
            "Precision:                    0.9051312438094669\n",
            "Recall:                       0.7448408442968116\n",
            "Weighted True-Positive Rate:  0.7448408442968116\n",
            "\n",
            "CPU times: user 61.7 ms, sys: 11.2 ms, total: 72.9 ms\n",
            "Wall time: 6.72 s\n"
          ]
        }
      ]
    },
    {
      "cell_type": "code",
      "source": [
        "%%time\n",
        "'''\n",
        "# Show Train & Test Set PR and ROC Values (BinaryClassificationMetrics)\n",
        "# Elaboration: It tells how much the model is capable of distinguishing between\n",
        "  classes. Higher the AUC, the better the model is at predicting 0 classes as 0\n",
        "  and 1 classes as 1. By analogy, the Higher the AUC, the better the model is\n",
        "  at distinguishing between patients with the disease and no disease.\n",
        "'''\n",
        "\n",
        "train_metrics = BinaryClassificationMetrics(predictions_and_actuals_train_rdd)\n",
        "test_metrics = BinaryClassificationMetrics(predictions_and_actuals_test_rdd)\n",
        "\n",
        "print('\\nTrain Set Metrics (BinaryClassificationMetrics)')\n",
        "a = '''\n",
        "Area under PR:           {0}\n",
        "Area under ROC:          {1}\n",
        "'''.format(train_metrics.areaUnderPR,\n",
        "           train_metrics.areaUnderROC\n",
        "           )\n",
        "\n",
        "print(a)\n",
        "\n",
        "print('\\nTest Set Metrics (BinaryClassificationMetrics)')\n",
        "b = '''\n",
        "Area under PR:           {0}\n",
        "Area under ROC:          {1}\n",
        "'''.format(test_metrics.areaUnderPR,\n",
        "           test_metrics.areaUnderROC\n",
        "           )\n",
        "\n",
        "print(b)"
      ],
      "metadata": {
        "colab": {
          "base_uri": "https://localhost:8080/"
        },
        "id": "oWFdKC3faenx",
        "outputId": "f2b52caf-136e-4f3e-82d4-cf0aa98c2460"
      },
      "execution_count": null,
      "outputs": [
        {
          "output_type": "stream",
          "name": "stdout",
          "text": [
            "\n",
            "Train Set Metrics (BinaryClassificationMetrics)\n",
            "\n",
            "Area under PR:           0.22859288823274157\n",
            "Area under ROC:          0.7717689311613544\n",
            "\n",
            "\n",
            "Test Set Metrics (BinaryClassificationMetrics)\n",
            "\n",
            "Area under PR:           0.22595641373609637\n",
            "Area under ROC:          0.7714480917967222\n",
            "\n",
            "CPU times: user 127 ms, sys: 23.1 ms, total: 150 ms\n",
            "Wall time: 16.9 s\n"
          ]
        }
      ]
    }
  ]
}